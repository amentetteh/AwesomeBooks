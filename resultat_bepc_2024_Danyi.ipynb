{
  "nbformat": 4,
  "nbformat_minor": 0,
  "metadata": {
    "colab": {
      "provenance": [],
      "include_colab_link": true
    },
    "kernelspec": {
      "name": "python3",
      "display_name": "Python 3"
    },
    "language_info": {
      "name": "python"
    }
  },
  "cells": [
    {
      "cell_type": "markdown",
      "metadata": {
        "id": "view-in-github",
        "colab_type": "text"
      },
      "source": [
        "<a href=\"https://colab.research.google.com/github/amentetteh/AwesomeBooks/blob/main/resultat_bepc_2024_Danyi.ipynb\" target=\"_parent\"><img src=\"https://colab.research.google.com/assets/colab-badge.svg\" alt=\"Open In Colab\"/></a>"
      ]
    },
    {
      "cell_type": "code",
      "execution_count": null,
      "metadata": {
        "id": "xJ_QG2Op0Lkx"
      },
      "outputs": [],
      "source": [
        "#Importation des librairies\n",
        "import numpy as np\n",
        "import tensorflow as tf\n",
        "from tensorflow.keras.datasets import mnist\n",
        "from tensorflow.keras import models, layers\n"
      ]
    },
    {
      "cell_type": "code",
      "source": [
        "# Charger les données MNIST\n",
        "(X_train, y_train), (X_test, y_test) = mnist.load_data()\n",
        "# Toutees bases\n",
        "#https://keras.io/api/datasets/"
      ],
      "metadata": {
        "colab": {
          "base_uri": "https://localhost:8080/"
        },
        "id": "LFvfsk0a0ihB",
        "outputId": "a34937ae-504c-4a44-8691-d48359eb70a8"
      },
      "execution_count": null,
      "outputs": [
        {
          "output_type": "stream",
          "name": "stdout",
          "text": [
            "Downloading data from https://storage.googleapis.com/tensorflow/tf-keras-datasets/mnist.npz\n",
            "11490434/11490434 [==============================] - 0s 0us/step\n"
          ]
        }
      ]
    },
    {
      "cell_type": "code",
      "source": [
        "X_train"
      ],
      "metadata": {
        "colab": {
          "base_uri": "https://localhost:8080/"
        },
        "id": "OsU1s8gE1A2F",
        "outputId": "0ee23d78-2dcc-45d0-e01a-69397cc507cf"
      },
      "execution_count": null,
      "outputs": [
        {
          "output_type": "execute_result",
          "data": {
            "text/plain": [
              "array([[[0, 0, 0, ..., 0, 0, 0],\n",
              "        [0, 0, 0, ..., 0, 0, 0],\n",
              "        [0, 0, 0, ..., 0, 0, 0],\n",
              "        ...,\n",
              "        [0, 0, 0, ..., 0, 0, 0],\n",
              "        [0, 0, 0, ..., 0, 0, 0],\n",
              "        [0, 0, 0, ..., 0, 0, 0]],\n",
              "\n",
              "       [[0, 0, 0, ..., 0, 0, 0],\n",
              "        [0, 0, 0, ..., 0, 0, 0],\n",
              "        [0, 0, 0, ..., 0, 0, 0],\n",
              "        ...,\n",
              "        [0, 0, 0, ..., 0, 0, 0],\n",
              "        [0, 0, 0, ..., 0, 0, 0],\n",
              "        [0, 0, 0, ..., 0, 0, 0]],\n",
              "\n",
              "       [[0, 0, 0, ..., 0, 0, 0],\n",
              "        [0, 0, 0, ..., 0, 0, 0],\n",
              "        [0, 0, 0, ..., 0, 0, 0],\n",
              "        ...,\n",
              "        [0, 0, 0, ..., 0, 0, 0],\n",
              "        [0, 0, 0, ..., 0, 0, 0],\n",
              "        [0, 0, 0, ..., 0, 0, 0]],\n",
              "\n",
              "       ...,\n",
              "\n",
              "       [[0, 0, 0, ..., 0, 0, 0],\n",
              "        [0, 0, 0, ..., 0, 0, 0],\n",
              "        [0, 0, 0, ..., 0, 0, 0],\n",
              "        ...,\n",
              "        [0, 0, 0, ..., 0, 0, 0],\n",
              "        [0, 0, 0, ..., 0, 0, 0],\n",
              "        [0, 0, 0, ..., 0, 0, 0]],\n",
              "\n",
              "       [[0, 0, 0, ..., 0, 0, 0],\n",
              "        [0, 0, 0, ..., 0, 0, 0],\n",
              "        [0, 0, 0, ..., 0, 0, 0],\n",
              "        ...,\n",
              "        [0, 0, 0, ..., 0, 0, 0],\n",
              "        [0, 0, 0, ..., 0, 0, 0],\n",
              "        [0, 0, 0, ..., 0, 0, 0]],\n",
              "\n",
              "       [[0, 0, 0, ..., 0, 0, 0],\n",
              "        [0, 0, 0, ..., 0, 0, 0],\n",
              "        [0, 0, 0, ..., 0, 0, 0],\n",
              "        ...,\n",
              "        [0, 0, 0, ..., 0, 0, 0],\n",
              "        [0, 0, 0, ..., 0, 0, 0],\n",
              "        [0, 0, 0, ..., 0, 0, 0]]], dtype=uint8)"
            ]
          },
          "metadata": {},
          "execution_count": 4
        }
      ]
    },
    {
      "cell_type": "code",
      "source": [
        "np.min(X_train)\n",
        "np.max(X_train)"
      ],
      "metadata": {
        "colab": {
          "base_uri": "https://localhost:8080/"
        },
        "id": "JPFcITXH1Sml",
        "outputId": "43ddfda0-af0d-4aad-e0f9-b2cbb6872c89"
      },
      "execution_count": null,
      "outputs": [
        {
          "output_type": "execute_result",
          "data": {
            "text/plain": [
              "255"
            ]
          },
          "metadata": {},
          "execution_count": 6
        }
      ]
    },
    {
      "cell_type": "code",
      "source": [
        "X_test.shape"
      ],
      "metadata": {
        "colab": {
          "base_uri": "https://localhost:8080/"
        },
        "id": "o4SLcthq1dwB",
        "outputId": "185ece8a-2b3b-403c-bbfc-a432fe28da36"
      },
      "execution_count": null,
      "outputs": [
        {
          "output_type": "execute_result",
          "data": {
            "text/plain": [
              "(10000, 28, 28)"
            ]
          },
          "metadata": {},
          "execution_count": 7
        }
      ]
    },
    {
      "cell_type": "code",
      "source": [
        "y_train"
      ],
      "metadata": {
        "colab": {
          "base_uri": "https://localhost:8080/"
        },
        "id": "ogzZ9mi01g64",
        "outputId": "8488857b-f131-41d1-adec-f54636e17f2f"
      },
      "execution_count": null,
      "outputs": [
        {
          "output_type": "execute_result",
          "data": {
            "text/plain": [
              "array([5, 0, 4, ..., 5, 6, 8], dtype=uint8)"
            ]
          },
          "metadata": {},
          "execution_count": 8
        }
      ]
    },
    {
      "cell_type": "code",
      "source": [
        "import matplotlib.pyplot as plt\n",
        "# Afficher 10 images du dataset\n",
        "# Crée une nouvelle figure de taille 10x1 pouces\n",
        "plt.figure(figsize=(10, 1))\n",
        "\n",
        "# Boucle sur les 10 premières images de X_train\n",
        "for i in range(10):\n",
        "    # Ajoute un sous-plot dans une grille de 1 ligne par 10 colonnes\n",
        "    plt.subplot(1, 10, i+1)\n",
        "    # Affiche l'image i de X_train en niveaux de gris\n",
        "    plt.imshow(X_train[i], cmap='gray')\n",
        "    # Désactive les axes pour une visualisation plus propre\n",
        "    plt.axis('off')\n",
        "\n",
        "# Affiche la figure contenant les 10 images\n",
        "plt.show()"
      ],
      "metadata": {
        "colab": {
          "base_uri": "https://localhost:8080/",
          "height": 85
        },
        "id": "BiLrl8zt1oip",
        "outputId": "66007adb-5e8b-41a6-d955-076b6cd7f7a7"
      },
      "execution_count": null,
      "outputs": [
        {
          "output_type": "display_data",
          "data": {
            "text/plain": [
              "<Figure size 1000x100 with 10 Axes>"
            ],
            "image/png": "[encoded data removed]"
          },
          "metadata": {}
        }
      ]
    },
    {
      "cell_type": "code",
      "source": [
        "# Normalisation des données\n",
        "# Les valeurs de pixels dans les images MNIST vont de 0 à 255.\n",
        "# - 0 représente le noir complet\n",
        "# - 255 représente le blanc complet\n",
        "# Nous divisons ces valeurs par 255 pour les ramener dans la plage [0, 1].\n",
        "# Cela améliore la stabilité numérique et accélère la convergence du modèle d'apprentissage.\n",
        "X_train = X_train / 255.0\n",
        "X_test = X_test / 255.0"
      ],
      "metadata": {
        "id": "xCDfvWvb2N4s"
      },
      "execution_count": null,
      "outputs": []
    },
    {
      "cell_type": "code",
      "source": [
        "y_train"
      ],
      "metadata": {
        "colab": {
          "base_uri": "https://localhost:8080/"
        },
        "id": "U9dPIah02flZ",
        "outputId": "4ed7126f-a476-408c-aba8-538f0136656d"
      },
      "execution_count": null,
      "outputs": [
        {
          "output_type": "execute_result",
          "data": {
            "text/plain": [
              "array([5, 0, 4, ..., 5, 6, 8], dtype=uint8)"
            ]
          },
          "metadata": {},
          "execution_count": 12
        }
      ]
    },
    {
      "cell_type": "code",
      "source": [
        "from tensorflow.keras.utils import to_categorical\n",
        "# Les étiquettes sont converties en vecteurs binaires.\n",
        "y_train = to_categorical(y_train)\n",
        "y_test = to_categorical(y_test)"
      ],
      "metadata": {
        "id": "Wbu9aiU_2o-f"
      },
      "execution_count": null,
      "outputs": []
    },
    {
      "cell_type": "code",
      "source": [
        "y_train"
      ],
      "metadata": {
        "colab": {
          "base_uri": "https://localhost:8080/"
        },
        "id": "0qW4MtDv2tTs",
        "outputId": "5537ec71-806f-4f71-f688-79b7c8219177"
      },
      "execution_count": null,
      "outputs": [
        {
          "output_type": "execute_result",
          "data": {
            "text/plain": [
              "array([[0., 0., 0., ..., 0., 0., 0.],\n",
              "       [1., 0., 0., ..., 0., 0., 0.],\n",
              "       [0., 0., 0., ..., 0., 0., 0.],\n",
              "       ...,\n",
              "       [0., 0., 0., ..., 0., 0., 0.],\n",
              "       [0., 0., 0., ..., 0., 0., 0.],\n",
              "       [0., 0., 0., ..., 0., 1., 0.]], dtype=float32)"
            ]
          },
          "metadata": {},
          "execution_count": 16
        }
      ]
    },
    {
      "cell_type": "code",
      "source": [
        "# Construction du modèle de réseau de neurones\n",
        "model = models.Sequential()\n",
        "\n",
        "# Aplatissement des images 28x28 en un vecteur de 784 éléments\n",
        "# Le modèle de réseau de neurones denses nécessite un vecteur d'entrée 1D,\n",
        "# donc nous devons aplatir les images 2D en un vecteur 1D.\n",
        "model.add(layers.Flatten(input_shape=(28, 28)))  # Aplatissement des images 28x28 en un vecteur de 784 éléments\n",
        "model.add(layers.Dense(128, activation='relu'))  # Première couche dense avec 128 neurones et activation ReLU\n",
        "model.add(layers.Dense(64, activation='relu'))  # Deuxième couche dense avec 64 neurones et activation ReLU\n",
        "model.add(layers.Dense(10, activation='softmax'))  # Couche de sortie avec 10 neurones (un pour chaque chiffre) et activation softmax\n",
        "\n"
      ],
      "metadata": {
        "id": "SzFj953G3JvU"
      },
      "execution_count": null,
      "outputs": []
    },
    {
      "cell_type": "code",
      "source": [
        "model.summary()\n",
        "#"
      ],
      "metadata": {
        "colab": {
          "base_uri": "https://localhost:8080/"
        },
        "id": "DPveUD7Z45D5",
        "outputId": "34666a29-9752-4ef4-ffc8-c67910e5d6d4"
      },
      "execution_count": null,
      "outputs": [
        {
          "output_type": "stream",
          "name": "stdout",
          "text": [
            "Model: \"sequential\"\n",
            "_________________________________________________________________\n",
            " Layer (type)                Output Shape              Param #   \n",
            "=================================================================\n",
            " flatten (Flatten)           (None, 784)               0         \n",
            "                                                                 \n",
            " dense (Dense)               (None, 128)               100480    \n",
            "                                                                 \n",
            " dense_1 (Dense)             (None, 64)                8256      \n",
            "                                                                 \n",
            " dense_2 (Dense)             (None, 10)                650       \n",
            "                                                                 \n",
            "=================================================================\n",
            "Total params: 109386 (427.29 KB)\n",
            "Trainable params: 109386 (427.29 KB)\n",
            "Non-trainable params: 0 (0.00 Byte)\n",
            "_________________________________________________________________\n"
          ]
        }
      ]
    },
    {
      "cell_type": "code",
      "source": [
        "# Compilation du modèle\n",
        "# Nous utilisons 'adam' comme optimiseur car il est efficace et largement utilisé.\n",
        "# 'categorical_crossentropy' est utilisé comme fonction de perte car nous avons des étiquettes catégorielles.\n",
        "model.compile(optimizer='adam',\n",
        "              loss='categorical_crossentropy',\n",
        "              metrics=['accuracy'])"
      ],
      "metadata": {
        "id": "58thRBJI5TbA"
      },
      "execution_count": null,
      "outputs": []
    },
    {
      "cell_type": "code",
      "source": [
        "\n",
        "# Entraînement du modèle\n",
        "# Nous entraînons le modèle sur les données d'entraînement (X_train, y_train) et validons sur les données de test (X_test, y_test).\n",
        "history = model.fit(X_train, y_train, epochs=20, batch_size=32, validation_split=0.2)\n"
      ],
      "metadata": {
        "colab": {
          "base_uri": "https://localhost:8080/"
        },
        "id": "FlxTjIw_5vnr",
        "outputId": "c0d7972d-cc01-402c-a073-4726fd9faa35"
      },
      "execution_count": null,
      "outputs": [
        {
          "output_type": "stream",
          "name": "stdout",
          "text": [
            "Epoch 1/20\n",
            "1500/1500 [==============================] - 9s 5ms/step - loss: 0.2701 - accuracy: 0.9212 - val_loss: 0.1421 - val_accuracy: 0.9568\n",
            "Epoch 2/20\n",
            "1500/1500 [==============================] - 8s 5ms/step - loss: 0.1146 - accuracy: 0.9645 - val_loss: 0.1185 - val_accuracy: 0.9651\n",
            "Epoch 3/20\n",
            "1500/1500 [==============================] - 10s 7ms/step - loss: 0.0780 - accuracy: 0.9763 - val_loss: 0.1020 - val_accuracy: 0.9694\n",
            "Epoch 4/20\n",
            "1500/1500 [==============================] - 7s 5ms/step - loss: 0.0588 - accuracy: 0.9809 - val_loss: 0.0953 - val_accuracy: 0.9716\n",
            "Epoch 5/20\n",
            "1500/1500 [==============================] - 7s 5ms/step - loss: 0.0451 - accuracy: 0.9851 - val_loss: 0.0941 - val_accuracy: 0.9730\n",
            "Epoch 6/20\n",
            "1500/1500 [==============================] - 8s 5ms/step - loss: 0.0343 - accuracy: 0.9887 - val_loss: 0.0941 - val_accuracy: 0.9748\n",
            "Epoch 7/20\n",
            "1500/1500 [==============================] - 6s 4ms/step - loss: 0.0317 - accuracy: 0.9899 - val_loss: 0.1119 - val_accuracy: 0.9712\n",
            "Epoch 8/20\n",
            "1500/1500 [==============================] - 9s 6ms/step - loss: 0.0220 - accuracy: 0.9928 - val_loss: 0.0999 - val_accuracy: 0.9746\n",
            "Epoch 9/20\n",
            "1500/1500 [==============================] - 7s 4ms/step - loss: 0.0221 - accuracy: 0.9929 - val_loss: 0.0995 - val_accuracy: 0.9755\n",
            "Epoch 10/20\n",
            "1500/1500 [==============================] - 8s 5ms/step - loss: 0.0198 - accuracy: 0.9930 - val_loss: 0.1078 - val_accuracy: 0.9761\n",
            "Epoch 11/20\n",
            "1500/1500 [==============================] - 7s 4ms/step - loss: 0.0158 - accuracy: 0.9949 - val_loss: 0.1091 - val_accuracy: 0.9768\n",
            "Epoch 12/20\n",
            "1500/1500 [==============================] - 8s 6ms/step - loss: 0.0141 - accuracy: 0.9955 - val_loss: 0.1236 - val_accuracy: 0.9751\n",
            "Epoch 13/20\n",
            "1500/1500 [==============================] - 7s 4ms/step - loss: 0.0148 - accuracy: 0.9949 - val_loss: 0.1256 - val_accuracy: 0.9750\n",
            "Epoch 14/20\n",
            "1500/1500 [==============================] - 8s 5ms/step - loss: 0.0117 - accuracy: 0.9960 - val_loss: 0.1399 - val_accuracy: 0.9729\n",
            "Epoch 15/20\n",
            "1500/1500 [==============================] - 6s 4ms/step - loss: 0.0127 - accuracy: 0.9957 - val_loss: 0.1316 - val_accuracy: 0.9753\n",
            "Epoch 16/20\n",
            "1500/1500 [==============================] - 8s 5ms/step - loss: 0.0097 - accuracy: 0.9970 - val_loss: 0.1175 - val_accuracy: 0.9772\n",
            "Epoch 17/20\n",
            "1500/1500 [==============================] - 6s 4ms/step - loss: 0.0125 - accuracy: 0.9962 - val_loss: 0.1437 - val_accuracy: 0.9743\n",
            "Epoch 18/20\n",
            "1500/1500 [==============================] - 8s 5ms/step - loss: 0.0117 - accuracy: 0.9963 - val_loss: 0.1380 - val_accuracy: 0.9744\n",
            "Epoch 19/20\n",
            "1500/1500 [==============================] - 7s 5ms/step - loss: 0.0074 - accuracy: 0.9975 - val_loss: 0.1403 - val_accuracy: 0.9765\n",
            "Epoch 20/20\n",
            "1500/1500 [==============================] - 7s 5ms/step - loss: 0.0105 - accuracy: 0.9964 - val_loss: 0.1324 - val_accuracy: 0.9772\n"
          ]
        }
      ]
    },
    {
      "cell_type": "code",
      "source": [
        "# Évaluation du modèle\n",
        "# Nous évaluons les performances du modèle sur les données de test.\n",
        "test_loss, test_acc = model.evaluate(X_test, y_test, verbose=2)\n",
        "print(f'\\nTest accuracy: {test_acc}')"
      ],
      "metadata": {
        "colab": {
          "base_uri": "https://localhost:8080/"
        },
        "id": "TOlUU_A05vk9",
        "outputId": "54ec34c4-acfd-43b7-b474-50acc1ac85aa"
      },
      "execution_count": null,
      "outputs": [
        {
          "output_type": "stream",
          "name": "stdout",
          "text": [
            "313/313 - 1s - loss: 0.1161 - accuracy: 0.9796 - 757ms/epoch - 2ms/step\n",
            "\n",
            "Test accuracy: 0.9796000123023987\n"
          ]
        }
      ]
    },
    {
      "cell_type": "code",
      "source": [
        "# Visualisation des performances de l'entraînement\n",
        "plt.plot(history.history['accuracy'], label='Training Accuracy')\n",
        "plt.plot(history.history['val_accuracy'], label='Validation Accuracy')\n",
        "plt.xlabel('Epoch')\n",
        "plt.ylabel('Accuracy')\n",
        "plt.legend()\n",
        "plt.show()"
      ],
      "metadata": {
        "colab": {
          "base_uri": "https://localhost:8080/",
          "height": 449
        },
        "id": "0NuX5Hr87jRm",
        "outputId": "46c015e7-68e8-4b62-ef95-bcf5c95d9a16"
      },
      "execution_count": null,
      "outputs": [
        {
          "output_type": "display_data",
          "data": {
            "text/plain": [
              "<Figure size 640x480 with 1 Axes>"
            ],
            "image/png": "[encoded data removed]"
          },
          "metadata": {}
        }
      ]
    },
    {
      "cell_type": "code",
      "source": [
        "plt.plot(history.history['loss'], label='Training Loss')\n",
        "plt.plot(history.history['val_loss'], label='Validation Loss')\n",
        "plt.xlabel('Epoch')\n",
        "plt.ylabel('Loss')\n",
        "plt.legend()\n",
        "plt.show()"
      ],
      "metadata": {
        "colab": {
          "base_uri": "https://localhost:8080/",
          "height": 449
        },
        "id": "WtTGF-F270aE",
        "outputId": "2e6246a6-dd75-4e45-a79f-3dd7325ed22e"
      },
      "execution_count": null,
      "outputs": [
        {
          "output_type": "display_data",
          "data": {
            "text/plain": [
              "<Figure size 640x480 with 1 Axes>"
            ],
            "image/png": "[encoded data removed]"
          },
          "metadata": {}
        }
      ]
    },
    {
      "cell_type": "code",
      "source": [
        "# Prédiction sur une nouvelle base de données (exemple avec les données de test)\n",
        "predictions = model.predict(X_test[:10])"
      ],
      "metadata": {
        "colab": {
          "base_uri": "https://localhost:8080/"
        },
        "id": "UbMPaXe88BxM",
        "outputId": "d330075c-b7c2-4d20-a523-eec85f109918"
      },
      "execution_count": null,
      "outputs": [
        {
          "output_type": "stream",
          "name": "stdout",
          "text": [
            "1/1 [==============================] - 0s 138ms/step\n"
          ]
        }
      ]
    },
    {
      "cell_type": "code",
      "source": [
        "# Affichage des prédictions pour les 10 premières images du dataset de test\n",
        "plt.figure(figsize=(10, 1))\n",
        "for i in range(10):\n",
        "    plt.subplot(1, 10, i+1)\n",
        "    plt.imshow(X_test[i], cmap='gray')\n",
        "    plt.title(np.argmax(predictions[i]))\n",
        "    plt.axis('off')\n",
        "plt.show()"
      ],
      "metadata": {
        "colab": {
          "base_uri": "https://localhost:8080/",
          "height": 103
        },
        "id": "w-zqu9vp8GHH",
        "outputId": "930ff174-ba32-498c-b43a-0b8a3e39d14e"
      },
      "execution_count": null,
      "outputs": [
        {
          "output_type": "display_data",
          "data": {
            "text/plain": [
              "<Figure size 1000x100 with 10 Axes>"
            ],
            "image/png": "[encoded data removed]"
          },
          "metadata": {}
        }
      ]
    },
    {
      "cell_type": "code",
      "source": [
        "# Matrice de confusion"
      ],
      "metadata": {
        "id": "8jXGHnHdGGzs"
      },
      "execution_count": 1,
      "outputs": []
    },
    {
      "cell_type": "code",
      "source": [
        "!pip install requests beautifulsoup4 pandas openpyxl"
      ],
      "metadata": {
        "id": "DvsdTYLefyT5",
        "outputId": "2a4f9cc2-d258-498a-9894-eb2262e21e3c",
        "colab": {
          "base_uri": "https://localhost:8080/"
        }
      },
      "execution_count": 2,
      "outputs": [
        {
          "output_type": "stream",
          "name": "stdout",
          "text": [
            "Requirement already satisfied: requests in /usr/local/lib/python3.10/dist-packages (2.31.0)\n",
            "Requirement already satisfied: beautifulsoup4 in /usr/local/lib/python3.10/dist-packages (4.12.3)\n",
            "Requirement already satisfied: pandas in /usr/local/lib/python3.10/dist-packages (2.0.3)\n",
            "Requirement already satisfied: openpyxl in /usr/local/lib/python3.10/dist-packages (3.1.4)\n",
            "Requirement already satisfied: charset-normalizer<4,>=2 in /usr/local/lib/python3.10/dist-packages (from requests) (3.3.2)\n",
            "Requirement already satisfied: idna<4,>=2.5 in /usr/local/lib/python3.10/dist-packages (from requests) (3.7)\n",
            "Requirement already satisfied: urllib3<3,>=1.21.1 in /usr/local/lib/python3.10/dist-packages (from requests) (2.0.7)\n",
            "Requirement already satisfied: certifi>=2017.4.17 in /usr/local/lib/python3.10/dist-packages (from requests) (2024.6.2)\n",
            "Requirement already satisfied: soupsieve>1.2 in /usr/local/lib/python3.10/dist-packages (from beautifulsoup4) (2.5)\n",
            "Requirement already satisfied: python-dateutil>=2.8.2 in /usr/local/lib/python3.10/dist-packages (from pandas) (2.8.2)\n",
            "Requirement already satisfied: pytz>=2020.1 in /usr/local/lib/python3.10/dist-packages (from pandas) (2023.4)\n",
            "Requirement already satisfied: tzdata>=2022.1 in /usr/local/lib/python3.10/dist-packages (from pandas) (2024.1)\n",
            "Requirement already satisfied: numpy>=1.21.0 in /usr/local/lib/python3.10/dist-packages (from pandas) (1.25.2)\n",
            "Requirement already satisfied: et-xmlfile in /usr/local/lib/python3.10/dist-packages (from openpyxl) (1.1.0)\n",
            "Requirement already satisfied: six>=1.5 in /usr/local/lib/python3.10/dist-packages (from python-dateutil>=2.8.2->pandas) (1.16.0)\n"
          ]
        }
      ]
    },
    {
      "cell_type": "code",
      "source": [
        "import requests\n",
        "import pandas as pd\n",
        "\n",
        "# Base URL without the parameter\n",
        "base_url = 'https://resultats.gouv.tg/api/examens/bepc/'\n",
        "\n",
        "# List to store the extracted data\n",
        "data = []\n",
        "\n",
        "# Function to scrape a given page\n",
        "def scrape_page(url):\n",
        "    # Send a GET request to fetch the page content\n",
        "    response = requests.get(url)\n",
        "\n",
        "    # Check if the request was successful\n",
        "    if response.status_code == 200:\n",
        "        # Parse the JSON content\n",
        "        json_data = response.json()\n",
        "\n",
        "        # Assuming json_data is a list of dictionaries\n",
        "        for item in json_data:\n",
        "            item['URL'] = url  # Add the URL to the item for reference\n",
        "            data.append(item)\n",
        "    else:\n",
        "        print(f\"Failed to retrieve {url}, status code: {response.status_code}\")\n",
        "\n",
        "# Loop through each parameter to scrape the corresponding pages\n",
        "for param in range(501721,502170):\n",
        "    full_url = base_url + str(param)\n",
        "    print(f\"Scraping {full_url}\")\n",
        "    scrape_page(full_url)\n",
        "\n",
        "# Create a pandas DataFrame with the collected data\n",
        "df = pd.DataFrame(data)\n",
        "\n",
        "# Save the DataFrame to an Excel file\n",
        "df.to_excel('resultat_bepc_2024_apeyeme.xlsx', index=False)\n",
        "\n",
        "print(\"Data has been saved to 'resultat_bepc_2024_apeyeme.xlsx'\")\n",
        "\n",
        "from google.colab import files\n",
        "files.download('resultat_bepc_2024_apeyeme.xlsx')\n"
      ],
      "metadata": {
        "collapsed": true,
        "id": "yj1NRsuF4TNu",
        "outputId": "178deb62-f1a5-4b03-e8d0-c625c2e4588e",
        "colab": {
          "base_uri": "https://localhost:8080/",
          "height": 1000
        }
      },
      "execution_count": 11,
      "outputs": [
        {
          "output_type": "stream",
          "name": "stdout",
          "text": [
            "Scraping https://resultats.gouv.tg/api/examens/bepc/501721\n",
            "Scraping https://resultats.gouv.tg/api/examens/bepc/501722\n",
            "Scraping https://resultats.gouv.tg/api/examens/bepc/501723\n",
            "Scraping https://resultats.gouv.tg/api/examens/bepc/501724\n",
            "Scraping https://resultats.gouv.tg/api/examens/bepc/501725\n",
            "Scraping https://resultats.gouv.tg/api/examens/bepc/501726\n",
            "Scraping https://resultats.gouv.tg/api/examens/bepc/501727\n",
            "Scraping https://resultats.gouv.tg/api/examens/bepc/501728\n",
            "Scraping https://resultats.gouv.tg/api/examens/bepc/501729\n",
            "Scraping https://resultats.gouv.tg/api/examens/bepc/501730\n",
            "Scraping https://resultats.gouv.tg/api/examens/bepc/501731\n",
            "Scraping https://resultats.gouv.tg/api/examens/bepc/501732\n",
            "Scraping https://resultats.gouv.tg/api/examens/bepc/501733\n",
            "Scraping https://resultats.gouv.tg/api/examens/bepc/501734\n",
            "Scraping https://resultats.gouv.tg/api/examens/bepc/501735\n",
            "Scraping https://resultats.gouv.tg/api/examens/bepc/501736\n",
            "Scraping https://resultats.gouv.tg/api/examens/bepc/501737\n",
            "Scraping https://resultats.gouv.tg/api/examens/bepc/501738\n",
            "Scraping https://resultats.gouv.tg/api/examens/bepc/501739\n",
            "Scraping https://resultats.gouv.tg/api/examens/bepc/501740\n",
            "Scraping https://resultats.gouv.tg/api/examens/bepc/501741\n",
            "Scraping https://resultats.gouv.tg/api/examens/bepc/501742\n",
            "Scraping https://resultats.gouv.tg/api/examens/bepc/501743\n",
            "Scraping https://resultats.gouv.tg/api/examens/bepc/501744\n",
            "Scraping https://resultats.gouv.tg/api/examens/bepc/501745\n",
            "Scraping https://resultats.gouv.tg/api/examens/bepc/501746\n",
            "Scraping https://resultats.gouv.tg/api/examens/bepc/501747\n",
            "Scraping https://resultats.gouv.tg/api/examens/bepc/501748\n",
            "Scraping https://resultats.gouv.tg/api/examens/bepc/501749\n",
            "Scraping https://resultats.gouv.tg/api/examens/bepc/501750\n",
            "Scraping https://resultats.gouv.tg/api/examens/bepc/501751\n",
            "Scraping https://resultats.gouv.tg/api/examens/bepc/501752\n",
            "Scraping https://resultats.gouv.tg/api/examens/bepc/501753\n",
            "Scraping https://resultats.gouv.tg/api/examens/bepc/501754\n",
            "Scraping https://resultats.gouv.tg/api/examens/bepc/501755\n",
            "Scraping https://resultats.gouv.tg/api/examens/bepc/501756\n",
            "Scraping https://resultats.gouv.tg/api/examens/bepc/501757\n",
            "Scraping https://resultats.gouv.tg/api/examens/bepc/501758\n",
            "Scraping https://resultats.gouv.tg/api/examens/bepc/501759\n",
            "Scraping https://resultats.gouv.tg/api/examens/bepc/501760\n",
            "Scraping https://resultats.gouv.tg/api/examens/bepc/501761\n",
            "Scraping https://resultats.gouv.tg/api/examens/bepc/501762\n",
            "Scraping https://resultats.gouv.tg/api/examens/bepc/501763\n",
            "Scraping https://resultats.gouv.tg/api/examens/bepc/501764\n",
            "Scraping https://resultats.gouv.tg/api/examens/bepc/501765\n",
            "Scraping https://resultats.gouv.tg/api/examens/bepc/501766\n",
            "Scraping https://resultats.gouv.tg/api/examens/bepc/501767\n",
            "Scraping https://resultats.gouv.tg/api/examens/bepc/501768\n",
            "Scraping https://resultats.gouv.tg/api/examens/bepc/501769\n",
            "Scraping https://resultats.gouv.tg/api/examens/bepc/501770\n",
            "Scraping https://resultats.gouv.tg/api/examens/bepc/501771\n",
            "Scraping https://resultats.gouv.tg/api/examens/bepc/501772\n",
            "Scraping https://resultats.gouv.tg/api/examens/bepc/501773\n",
            "Scraping https://resultats.gouv.tg/api/examens/bepc/501774\n",
            "Scraping https://resultats.gouv.tg/api/examens/bepc/501775\n",
            "Scraping https://resultats.gouv.tg/api/examens/bepc/501776\n",
            "Scraping https://resultats.gouv.tg/api/examens/bepc/501777\n",
            "Scraping https://resultats.gouv.tg/api/examens/bepc/501778\n",
            "Scraping https://resultats.gouv.tg/api/examens/bepc/501779\n",
            "Scraping https://resultats.gouv.tg/api/examens/bepc/501780\n",
            "Scraping https://resultats.gouv.tg/api/examens/bepc/501781\n",
            "Scraping https://resultats.gouv.tg/api/examens/bepc/501782\n",
            "Scraping https://resultats.gouv.tg/api/examens/bepc/501783\n",
            "Scraping https://resultats.gouv.tg/api/examens/bepc/501784\n",
            "Scraping https://resultats.gouv.tg/api/examens/bepc/501785\n",
            "Scraping https://resultats.gouv.tg/api/examens/bepc/501786\n",
            "Scraping https://resultats.gouv.tg/api/examens/bepc/501787\n",
            "Scraping https://resultats.gouv.tg/api/examens/bepc/501788\n",
            "Scraping https://resultats.gouv.tg/api/examens/bepc/501789\n",
            "Scraping https://resultats.gouv.tg/api/examens/bepc/501790\n",
            "Scraping https://resultats.gouv.tg/api/examens/bepc/501791\n",
            "Scraping https://resultats.gouv.tg/api/examens/bepc/501792\n",
            "Scraping https://resultats.gouv.tg/api/examens/bepc/501793\n",
            "Scraping https://resultats.gouv.tg/api/examens/bepc/501794\n",
            "Scraping https://resultats.gouv.tg/api/examens/bepc/501795\n",
            "Scraping https://resultats.gouv.tg/api/examens/bepc/501796\n",
            "Scraping https://resultats.gouv.tg/api/examens/bepc/501797\n",
            "Scraping https://resultats.gouv.tg/api/examens/bepc/501798\n",
            "Scraping https://resultats.gouv.tg/api/examens/bepc/501799\n",
            "Scraping https://resultats.gouv.tg/api/examens/bepc/501800\n",
            "Scraping https://resultats.gouv.tg/api/examens/bepc/501801\n",
            "Scraping https://resultats.gouv.tg/api/examens/bepc/501802\n",
            "Scraping https://resultats.gouv.tg/api/examens/bepc/501803\n",
            "Scraping https://resultats.gouv.tg/api/examens/bepc/501804\n",
            "Scraping https://resultats.gouv.tg/api/examens/bepc/501805\n",
            "Scraping https://resultats.gouv.tg/api/examens/bepc/501806\n",
            "Scraping https://resultats.gouv.tg/api/examens/bepc/501807\n",
            "Scraping https://resultats.gouv.tg/api/examens/bepc/501808\n",
            "Scraping https://resultats.gouv.tg/api/examens/bepc/501809\n",
            "Scraping https://resultats.gouv.tg/api/examens/bepc/501810\n",
            "Scraping https://resultats.gouv.tg/api/examens/bepc/501811\n",
            "Scraping https://resultats.gouv.tg/api/examens/bepc/501812\n",
            "Scraping https://resultats.gouv.tg/api/examens/bepc/501813\n",
            "Scraping https://resultats.gouv.tg/api/examens/bepc/501814\n",
            "Scraping https://resultats.gouv.tg/api/examens/bepc/501815\n",
            "Scraping https://resultats.gouv.tg/api/examens/bepc/501816\n",
            "Scraping https://resultats.gouv.tg/api/examens/bepc/501817\n",
            "Scraping https://resultats.gouv.tg/api/examens/bepc/501818\n",
            "Scraping https://resultats.gouv.tg/api/examens/bepc/501819\n",
            "Scraping https://resultats.gouv.tg/api/examens/bepc/501820\n",
            "Scraping https://resultats.gouv.tg/api/examens/bepc/501821\n",
            "Scraping https://resultats.gouv.tg/api/examens/bepc/501822\n",
            "Scraping https://resultats.gouv.tg/api/examens/bepc/501823\n",
            "Scraping https://resultats.gouv.tg/api/examens/bepc/501824\n",
            "Scraping https://resultats.gouv.tg/api/examens/bepc/501825\n",
            "Scraping https://resultats.gouv.tg/api/examens/bepc/501826\n",
            "Scraping https://resultats.gouv.tg/api/examens/bepc/501827\n",
            "Scraping https://resultats.gouv.tg/api/examens/bepc/501828\n",
            "Scraping https://resultats.gouv.tg/api/examens/bepc/501829\n",
            "Scraping https://resultats.gouv.tg/api/examens/bepc/501830\n",
            "Scraping https://resultats.gouv.tg/api/examens/bepc/501831\n",
            "Scraping https://resultats.gouv.tg/api/examens/bepc/501832\n",
            "Scraping https://resultats.gouv.tg/api/examens/bepc/501833\n",
            "Scraping https://resultats.gouv.tg/api/examens/bepc/501834\n",
            "Scraping https://resultats.gouv.tg/api/examens/bepc/501835\n",
            "Scraping https://resultats.gouv.tg/api/examens/bepc/501836\n",
            "Scraping https://resultats.gouv.tg/api/examens/bepc/501837\n",
            "Scraping https://resultats.gouv.tg/api/examens/bepc/501838\n",
            "Scraping https://resultats.gouv.tg/api/examens/bepc/501839\n",
            "Scraping https://resultats.gouv.tg/api/examens/bepc/501840\n",
            "Scraping https://resultats.gouv.tg/api/examens/bepc/501841\n",
            "Scraping https://resultats.gouv.tg/api/examens/bepc/501842\n",
            "Scraping https://resultats.gouv.tg/api/examens/bepc/501843\n",
            "Scraping https://resultats.gouv.tg/api/examens/bepc/501844\n",
            "Scraping https://resultats.gouv.tg/api/examens/bepc/501845\n",
            "Scraping https://resultats.gouv.tg/api/examens/bepc/501846\n",
            "Scraping https://resultats.gouv.tg/api/examens/bepc/501847\n",
            "Scraping https://resultats.gouv.tg/api/examens/bepc/501848\n",
            "Scraping https://resultats.gouv.tg/api/examens/bepc/501849\n",
            "Scraping https://resultats.gouv.tg/api/examens/bepc/501850\n",
            "Scraping https://resultats.gouv.tg/api/examens/bepc/501851\n",
            "Scraping https://resultats.gouv.tg/api/examens/bepc/501852\n",
            "Scraping https://resultats.gouv.tg/api/examens/bepc/501853\n",
            "Scraping https://resultats.gouv.tg/api/examens/bepc/501854\n",
            "Scraping https://resultats.gouv.tg/api/examens/bepc/501855\n",
            "Scraping https://resultats.gouv.tg/api/examens/bepc/501856\n",
            "Scraping https://resultats.gouv.tg/api/examens/bepc/501857\n",
            "Scraping https://resultats.gouv.tg/api/examens/bepc/501858\n",
            "Scraping https://resultats.gouv.tg/api/examens/bepc/501859\n",
            "Scraping https://resultats.gouv.tg/api/examens/bepc/501860\n",
            "Scraping https://resultats.gouv.tg/api/examens/bepc/501861\n",
            "Scraping https://resultats.gouv.tg/api/examens/bepc/501862\n",
            "Scraping https://resultats.gouv.tg/api/examens/bepc/501863\n",
            "Scraping https://resultats.gouv.tg/api/examens/bepc/501864\n",
            "Scraping https://resultats.gouv.tg/api/examens/bepc/501865\n",
            "Scraping https://resultats.gouv.tg/api/examens/bepc/501866\n",
            "Scraping https://resultats.gouv.tg/api/examens/bepc/501867\n",
            "Scraping https://resultats.gouv.tg/api/examens/bepc/501868\n",
            "Scraping https://resultats.gouv.tg/api/examens/bepc/501869\n",
            "Scraping https://resultats.gouv.tg/api/examens/bepc/501870\n",
            "Scraping https://resultats.gouv.tg/api/examens/bepc/501871\n",
            "Scraping https://resultats.gouv.tg/api/examens/bepc/501872\n",
            "Scraping https://resultats.gouv.tg/api/examens/bepc/501873\n",
            "Scraping https://resultats.gouv.tg/api/examens/bepc/501874\n",
            "Scraping https://resultats.gouv.tg/api/examens/bepc/501875\n",
            "Scraping https://resultats.gouv.tg/api/examens/bepc/501876\n",
            "Scraping https://resultats.gouv.tg/api/examens/bepc/501877\n",
            "Scraping https://resultats.gouv.tg/api/examens/bepc/501878\n",
            "Scraping https://resultats.gouv.tg/api/examens/bepc/501879\n",
            "Scraping https://resultats.gouv.tg/api/examens/bepc/501880\n",
            "Scraping https://resultats.gouv.tg/api/examens/bepc/501881\n",
            "Scraping https://resultats.gouv.tg/api/examens/bepc/501882\n",
            "Scraping https://resultats.gouv.tg/api/examens/bepc/501883\n",
            "Scraping https://resultats.gouv.tg/api/examens/bepc/501884\n",
            "Scraping https://resultats.gouv.tg/api/examens/bepc/501885\n",
            "Scraping https://resultats.gouv.tg/api/examens/bepc/501886\n",
            "Scraping https://resultats.gouv.tg/api/examens/bepc/501887\n",
            "Scraping https://resultats.gouv.tg/api/examens/bepc/501888\n",
            "Scraping https://resultats.gouv.tg/api/examens/bepc/501889\n",
            "Scraping https://resultats.gouv.tg/api/examens/bepc/501890\n",
            "Scraping https://resultats.gouv.tg/api/examens/bepc/501891\n",
            "Scraping https://resultats.gouv.tg/api/examens/bepc/501892\n",
            "Scraping https://resultats.gouv.tg/api/examens/bepc/501893\n",
            "Scraping https://resultats.gouv.tg/api/examens/bepc/501894\n",
            "Scraping https://resultats.gouv.tg/api/examens/bepc/501895\n",
            "Scraping https://resultats.gouv.tg/api/examens/bepc/501896\n",
            "Scraping https://resultats.gouv.tg/api/examens/bepc/501897\n",
            "Scraping https://resultats.gouv.tg/api/examens/bepc/501898\n",
            "Scraping https://resultats.gouv.tg/api/examens/bepc/501899\n",
            "Scraping https://resultats.gouv.tg/api/examens/bepc/501900\n",
            "Scraping https://resultats.gouv.tg/api/examens/bepc/501901\n",
            "Scraping https://resultats.gouv.tg/api/examens/bepc/501902\n",
            "Scraping https://resultats.gouv.tg/api/examens/bepc/501903\n",
            "Scraping https://resultats.gouv.tg/api/examens/bepc/501904\n",
            "Scraping https://resultats.gouv.tg/api/examens/bepc/501905\n",
            "Scraping https://resultats.gouv.tg/api/examens/bepc/501906\n",
            "Scraping https://resultats.gouv.tg/api/examens/bepc/501907\n",
            "Scraping https://resultats.gouv.tg/api/examens/bepc/501908\n",
            "Scraping https://resultats.gouv.tg/api/examens/bepc/501909\n",
            "Scraping https://resultats.gouv.tg/api/examens/bepc/501910\n",
            "Scraping https://resultats.gouv.tg/api/examens/bepc/501911\n",
            "Scraping https://resultats.gouv.tg/api/examens/bepc/501912\n",
            "Scraping https://resultats.gouv.tg/api/examens/bepc/501913\n",
            "Scraping https://resultats.gouv.tg/api/examens/bepc/501914\n",
            "Scraping https://resultats.gouv.tg/api/examens/bepc/501915\n",
            "Scraping https://resultats.gouv.tg/api/examens/bepc/501916\n",
            "Scraping https://resultats.gouv.tg/api/examens/bepc/501917\n",
            "Scraping https://resultats.gouv.tg/api/examens/bepc/501918\n",
            "Scraping https://resultats.gouv.tg/api/examens/bepc/501919\n",
            "Scraping https://resultats.gouv.tg/api/examens/bepc/501920\n",
            "Scraping https://resultats.gouv.tg/api/examens/bepc/501921\n",
            "Scraping https://resultats.gouv.tg/api/examens/bepc/501922\n",
            "Scraping https://resultats.gouv.tg/api/examens/bepc/501923\n",
            "Scraping https://resultats.gouv.tg/api/examens/bepc/501924\n",
            "Scraping https://resultats.gouv.tg/api/examens/bepc/501925\n",
            "Scraping https://resultats.gouv.tg/api/examens/bepc/501926\n",
            "Scraping https://resultats.gouv.tg/api/examens/bepc/501927\n",
            "Scraping https://resultats.gouv.tg/api/examens/bepc/501928\n",
            "Scraping https://resultats.gouv.tg/api/examens/bepc/501929\n",
            "Scraping https://resultats.gouv.tg/api/examens/bepc/501930\n",
            "Scraping https://resultats.gouv.tg/api/examens/bepc/501931\n",
            "Scraping https://resultats.gouv.tg/api/examens/bepc/501932\n",
            "Scraping https://resultats.gouv.tg/api/examens/bepc/501933\n",
            "Scraping https://resultats.gouv.tg/api/examens/bepc/501934\n",
            "Scraping https://resultats.gouv.tg/api/examens/bepc/501935\n",
            "Scraping https://resultats.gouv.tg/api/examens/bepc/501936\n",
            "Scraping https://resultats.gouv.tg/api/examens/bepc/501937\n",
            "Scraping https://resultats.gouv.tg/api/examens/bepc/501938\n",
            "Scraping https://resultats.gouv.tg/api/examens/bepc/501939\n",
            "Scraping https://resultats.gouv.tg/api/examens/bepc/501940\n",
            "Scraping https://resultats.gouv.tg/api/examens/bepc/501941\n",
            "Scraping https://resultats.gouv.tg/api/examens/bepc/501942\n",
            "Scraping https://resultats.gouv.tg/api/examens/bepc/501943\n",
            "Scraping https://resultats.gouv.tg/api/examens/bepc/501944\n",
            "Scraping https://resultats.gouv.tg/api/examens/bepc/501945\n",
            "Scraping https://resultats.gouv.tg/api/examens/bepc/501946\n",
            "Scraping https://resultats.gouv.tg/api/examens/bepc/501947\n",
            "Scraping https://resultats.gouv.tg/api/examens/bepc/501948\n",
            "Scraping https://resultats.gouv.tg/api/examens/bepc/501949\n",
            "Scraping https://resultats.gouv.tg/api/examens/bepc/501950\n",
            "Scraping https://resultats.gouv.tg/api/examens/bepc/501951\n",
            "Scraping https://resultats.gouv.tg/api/examens/bepc/501952\n",
            "Scraping https://resultats.gouv.tg/api/examens/bepc/501953\n",
            "Scraping https://resultats.gouv.tg/api/examens/bepc/501954\n",
            "Scraping https://resultats.gouv.tg/api/examens/bepc/501955\n",
            "Scraping https://resultats.gouv.tg/api/examens/bepc/501956\n",
            "Scraping https://resultats.gouv.tg/api/examens/bepc/501957\n",
            "Scraping https://resultats.gouv.tg/api/examens/bepc/501958\n",
            "Scraping https://resultats.gouv.tg/api/examens/bepc/501959\n",
            "Scraping https://resultats.gouv.tg/api/examens/bepc/501960\n",
            "Scraping https://resultats.gouv.tg/api/examens/bepc/501961\n",
            "Scraping https://resultats.gouv.tg/api/examens/bepc/501962\n",
            "Scraping https://resultats.gouv.tg/api/examens/bepc/501963\n",
            "Scraping https://resultats.gouv.tg/api/examens/bepc/501964\n",
            "Scraping https://resultats.gouv.tg/api/examens/bepc/501965\n",
            "Scraping https://resultats.gouv.tg/api/examens/bepc/501966\n",
            "Scraping https://resultats.gouv.tg/api/examens/bepc/501967\n",
            "Scraping https://resultats.gouv.tg/api/examens/bepc/501968\n",
            "Scraping https://resultats.gouv.tg/api/examens/bepc/501969\n",
            "Scraping https://resultats.gouv.tg/api/examens/bepc/501970\n",
            "Scraping https://resultats.gouv.tg/api/examens/bepc/501971\n",
            "Scraping https://resultats.gouv.tg/api/examens/bepc/501972\n",
            "Scraping https://resultats.gouv.tg/api/examens/bepc/501973\n",
            "Scraping https://resultats.gouv.tg/api/examens/bepc/501974\n",
            "Scraping https://resultats.gouv.tg/api/examens/bepc/501975\n",
            "Scraping https://resultats.gouv.tg/api/examens/bepc/501976\n",
            "Scraping https://resultats.gouv.tg/api/examens/bepc/501977\n",
            "Scraping https://resultats.gouv.tg/api/examens/bepc/501978\n",
            "Scraping https://resultats.gouv.tg/api/examens/bepc/501979\n",
            "Scraping https://resultats.gouv.tg/api/examens/bepc/501980\n",
            "Scraping https://resultats.gouv.tg/api/examens/bepc/501981\n",
            "Scraping https://resultats.gouv.tg/api/examens/bepc/501982\n",
            "Scraping https://resultats.gouv.tg/api/examens/bepc/501983\n",
            "Scraping https://resultats.gouv.tg/api/examens/bepc/501984\n",
            "Scraping https://resultats.gouv.tg/api/examens/bepc/501985\n",
            "Scraping https://resultats.gouv.tg/api/examens/bepc/501986\n",
            "Scraping https://resultats.gouv.tg/api/examens/bepc/501987\n",
            "Scraping https://resultats.gouv.tg/api/examens/bepc/501988\n",
            "Scraping https://resultats.gouv.tg/api/examens/bepc/501989\n",
            "Scraping https://resultats.gouv.tg/api/examens/bepc/501990\n",
            "Scraping https://resultats.gouv.tg/api/examens/bepc/501991\n",
            "Scraping https://resultats.gouv.tg/api/examens/bepc/501992\n",
            "Scraping https://resultats.gouv.tg/api/examens/bepc/501993\n",
            "Scraping https://resultats.gouv.tg/api/examens/bepc/501994\n",
            "Scraping https://resultats.gouv.tg/api/examens/bepc/501995\n",
            "Scraping https://resultats.gouv.tg/api/examens/bepc/501996\n",
            "Scraping https://resultats.gouv.tg/api/examens/bepc/501997\n",
            "Scraping https://resultats.gouv.tg/api/examens/bepc/501998\n",
            "Scraping https://resultats.gouv.tg/api/examens/bepc/501999\n",
            "Scraping https://resultats.gouv.tg/api/examens/bepc/502000\n",
            "Scraping https://resultats.gouv.tg/api/examens/bepc/502001\n",
            "Scraping https://resultats.gouv.tg/api/examens/bepc/502002\n",
            "Scraping https://resultats.gouv.tg/api/examens/bepc/502003\n",
            "Scraping https://resultats.gouv.tg/api/examens/bepc/502004\n",
            "Scraping https://resultats.gouv.tg/api/examens/bepc/502005\n",
            "Scraping https://resultats.gouv.tg/api/examens/bepc/502006\n",
            "Scraping https://resultats.gouv.tg/api/examens/bepc/502007\n",
            "Scraping https://resultats.gouv.tg/api/examens/bepc/502008\n",
            "Scraping https://resultats.gouv.tg/api/examens/bepc/502009\n",
            "Scraping https://resultats.gouv.tg/api/examens/bepc/502010\n",
            "Scraping https://resultats.gouv.tg/api/examens/bepc/502011\n",
            "Scraping https://resultats.gouv.tg/api/examens/bepc/502012\n",
            "Scraping https://resultats.gouv.tg/api/examens/bepc/502013\n",
            "Scraping https://resultats.gouv.tg/api/examens/bepc/502014\n",
            "Scraping https://resultats.gouv.tg/api/examens/bepc/502015\n",
            "Scraping https://resultats.gouv.tg/api/examens/bepc/502016\n",
            "Scraping https://resultats.gouv.tg/api/examens/bepc/502017\n",
            "Scraping https://resultats.gouv.tg/api/examens/bepc/502018\n",
            "Scraping https://resultats.gouv.tg/api/examens/bepc/502019\n",
            "Scraping https://resultats.gouv.tg/api/examens/bepc/502020\n",
            "Scraping https://resultats.gouv.tg/api/examens/bepc/502021\n",
            "Scraping https://resultats.gouv.tg/api/examens/bepc/502022\n",
            "Scraping https://resultats.gouv.tg/api/examens/bepc/502023\n",
            "Scraping https://resultats.gouv.tg/api/examens/bepc/502024\n",
            "Scraping https://resultats.gouv.tg/api/examens/bepc/502025\n",
            "Scraping https://resultats.gouv.tg/api/examens/bepc/502026\n",
            "Scraping https://resultats.gouv.tg/api/examens/bepc/502027\n",
            "Scraping https://resultats.gouv.tg/api/examens/bepc/502028\n",
            "Scraping https://resultats.gouv.tg/api/examens/bepc/502029\n",
            "Scraping https://resultats.gouv.tg/api/examens/bepc/502030\n",
            "Scraping https://resultats.gouv.tg/api/examens/bepc/502031\n",
            "Scraping https://resultats.gouv.tg/api/examens/bepc/502032\n",
            "Scraping https://resultats.gouv.tg/api/examens/bepc/502033\n",
            "Scraping https://resultats.gouv.tg/api/examens/bepc/502034\n",
            "Scraping https://resultats.gouv.tg/api/examens/bepc/502035\n",
            "Scraping https://resultats.gouv.tg/api/examens/bepc/502036\n",
            "Scraping https://resultats.gouv.tg/api/examens/bepc/502037\n",
            "Scraping https://resultats.gouv.tg/api/examens/bepc/502038\n",
            "Scraping https://resultats.gouv.tg/api/examens/bepc/502039\n",
            "Scraping https://resultats.gouv.tg/api/examens/bepc/502040\n",
            "Scraping https://resultats.gouv.tg/api/examens/bepc/502041\n",
            "Scraping https://resultats.gouv.tg/api/examens/bepc/502042\n",
            "Scraping https://resultats.gouv.tg/api/examens/bepc/502043\n",
            "Scraping https://resultats.gouv.tg/api/examens/bepc/502044\n",
            "Scraping https://resultats.gouv.tg/api/examens/bepc/502045\n",
            "Scraping https://resultats.gouv.tg/api/examens/bepc/502046\n",
            "Scraping https://resultats.gouv.tg/api/examens/bepc/502047\n",
            "Scraping https://resultats.gouv.tg/api/examens/bepc/502048\n",
            "Scraping https://resultats.gouv.tg/api/examens/bepc/502049\n",
            "Scraping https://resultats.gouv.tg/api/examens/bepc/502050\n",
            "Scraping https://resultats.gouv.tg/api/examens/bepc/502051\n",
            "Scraping https://resultats.gouv.tg/api/examens/bepc/502052\n",
            "Scraping https://resultats.gouv.tg/api/examens/bepc/502053\n",
            "Scraping https://resultats.gouv.tg/api/examens/bepc/502054\n",
            "Scraping https://resultats.gouv.tg/api/examens/bepc/502055\n",
            "Scraping https://resultats.gouv.tg/api/examens/bepc/502056\n",
            "Scraping https://resultats.gouv.tg/api/examens/bepc/502057\n",
            "Scraping https://resultats.gouv.tg/api/examens/bepc/502058\n",
            "Scraping https://resultats.gouv.tg/api/examens/bepc/502059\n",
            "Scraping https://resultats.gouv.tg/api/examens/bepc/502060\n",
            "Scraping https://resultats.gouv.tg/api/examens/bepc/502061\n",
            "Scraping https://resultats.gouv.tg/api/examens/bepc/502062\n",
            "Scraping https://resultats.gouv.tg/api/examens/bepc/502063\n",
            "Scraping https://resultats.gouv.tg/api/examens/bepc/502064\n",
            "Scraping https://resultats.gouv.tg/api/examens/bepc/502065\n",
            "Scraping https://resultats.gouv.tg/api/examens/bepc/502066\n",
            "Scraping https://resultats.gouv.tg/api/examens/bepc/502067\n",
            "Scraping https://resultats.gouv.tg/api/examens/bepc/502068\n",
            "Scraping https://resultats.gouv.tg/api/examens/bepc/502069\n",
            "Scraping https://resultats.gouv.tg/api/examens/bepc/502070\n",
            "Scraping https://resultats.gouv.tg/api/examens/bepc/502071\n",
            "Scraping https://resultats.gouv.tg/api/examens/bepc/502072\n",
            "Scraping https://resultats.gouv.tg/api/examens/bepc/502073\n",
            "Scraping https://resultats.gouv.tg/api/examens/bepc/502074\n",
            "Scraping https://resultats.gouv.tg/api/examens/bepc/502075\n",
            "Scraping https://resultats.gouv.tg/api/examens/bepc/502076\n",
            "Scraping https://resultats.gouv.tg/api/examens/bepc/502077\n",
            "Scraping https://resultats.gouv.tg/api/examens/bepc/502078\n",
            "Scraping https://resultats.gouv.tg/api/examens/bepc/502079\n",
            "Scraping https://resultats.gouv.tg/api/examens/bepc/502080\n",
            "Scraping https://resultats.gouv.tg/api/examens/bepc/502081\n",
            "Scraping https://resultats.gouv.tg/api/examens/bepc/502082\n",
            "Scraping https://resultats.gouv.tg/api/examens/bepc/502083\n",
            "Scraping https://resultats.gouv.tg/api/examens/bepc/502084\n",
            "Scraping https://resultats.gouv.tg/api/examens/bepc/502085\n",
            "Scraping https://resultats.gouv.tg/api/examens/bepc/502086\n",
            "Scraping https://resultats.gouv.tg/api/examens/bepc/502087\n",
            "Scraping https://resultats.gouv.tg/api/examens/bepc/502088\n",
            "Scraping https://resultats.gouv.tg/api/examens/bepc/502089\n",
            "Scraping https://resultats.gouv.tg/api/examens/bepc/502090\n",
            "Scraping https://resultats.gouv.tg/api/examens/bepc/502091\n",
            "Scraping https://resultats.gouv.tg/api/examens/bepc/502092\n",
            "Scraping https://resultats.gouv.tg/api/examens/bepc/502093\n",
            "Scraping https://resultats.gouv.tg/api/examens/bepc/502094\n",
            "Scraping https://resultats.gouv.tg/api/examens/bepc/502095\n",
            "Scraping https://resultats.gouv.tg/api/examens/bepc/502096\n",
            "Scraping https://resultats.gouv.tg/api/examens/bepc/502097\n",
            "Scraping https://resultats.gouv.tg/api/examens/bepc/502098\n",
            "Scraping https://resultats.gouv.tg/api/examens/bepc/502099\n",
            "Scraping https://resultats.gouv.tg/api/examens/bepc/502100\n",
            "Scraping https://resultats.gouv.tg/api/examens/bepc/502101\n",
            "Scraping https://resultats.gouv.tg/api/examens/bepc/502102\n",
            "Scraping https://resultats.gouv.tg/api/examens/bepc/502103\n",
            "Scraping https://resultats.gouv.tg/api/examens/bepc/502104\n",
            "Scraping https://resultats.gouv.tg/api/examens/bepc/502105\n",
            "Scraping https://resultats.gouv.tg/api/examens/bepc/502106\n",
            "Scraping https://resultats.gouv.tg/api/examens/bepc/502107\n",
            "Scraping https://resultats.gouv.tg/api/examens/bepc/502108\n",
            "Scraping https://resultats.gouv.tg/api/examens/bepc/502109\n",
            "Scraping https://resultats.gouv.tg/api/examens/bepc/502110\n",
            "Scraping https://resultats.gouv.tg/api/examens/bepc/502111\n",
            "Scraping https://resultats.gouv.tg/api/examens/bepc/502112\n",
            "Scraping https://resultats.gouv.tg/api/examens/bepc/502113\n",
            "Scraping https://resultats.gouv.tg/api/examens/bepc/502114\n",
            "Scraping https://resultats.gouv.tg/api/examens/bepc/502115\n",
            "Scraping https://resultats.gouv.tg/api/examens/bepc/502116\n",
            "Scraping https://resultats.gouv.tg/api/examens/bepc/502117\n",
            "Scraping https://resultats.gouv.tg/api/examens/bepc/502118\n",
            "Scraping https://resultats.gouv.tg/api/examens/bepc/502119\n",
            "Scraping https://resultats.gouv.tg/api/examens/bepc/502120\n",
            "Scraping https://resultats.gouv.tg/api/examens/bepc/502121\n",
            "Scraping https://resultats.gouv.tg/api/examens/bepc/502122\n",
            "Scraping https://resultats.gouv.tg/api/examens/bepc/502123\n",
            "Scraping https://resultats.gouv.tg/api/examens/bepc/502124\n",
            "Scraping https://resultats.gouv.tg/api/examens/bepc/502125\n",
            "Scraping https://resultats.gouv.tg/api/examens/bepc/502126\n",
            "Scraping https://resultats.gouv.tg/api/examens/bepc/502127\n",
            "Scraping https://resultats.gouv.tg/api/examens/bepc/502128\n",
            "Scraping https://resultats.gouv.tg/api/examens/bepc/502129\n",
            "Scraping https://resultats.gouv.tg/api/examens/bepc/502130\n",
            "Scraping https://resultats.gouv.tg/api/examens/bepc/502131\n",
            "Scraping https://resultats.gouv.tg/api/examens/bepc/502132\n",
            "Scraping https://resultats.gouv.tg/api/examens/bepc/502133\n",
            "Scraping https://resultats.gouv.tg/api/examens/bepc/502134\n",
            "Scraping https://resultats.gouv.tg/api/examens/bepc/502135\n",
            "Scraping https://resultats.gouv.tg/api/examens/bepc/502136\n",
            "Scraping https://resultats.gouv.tg/api/examens/bepc/502137\n",
            "Scraping https://resultats.gouv.tg/api/examens/bepc/502138\n",
            "Scraping https://resultats.gouv.tg/api/examens/bepc/502139\n",
            "Scraping https://resultats.gouv.tg/api/examens/bepc/502140\n",
            "Scraping https://resultats.gouv.tg/api/examens/bepc/502141\n",
            "Scraping https://resultats.gouv.tg/api/examens/bepc/502142\n",
            "Scraping https://resultats.gouv.tg/api/examens/bepc/502143\n",
            "Scraping https://resultats.gouv.tg/api/examens/bepc/502144\n",
            "Scraping https://resultats.gouv.tg/api/examens/bepc/502145\n",
            "Scraping https://resultats.gouv.tg/api/examens/bepc/502146\n",
            "Scraping https://resultats.gouv.tg/api/examens/bepc/502147\n",
            "Scraping https://resultats.gouv.tg/api/examens/bepc/502148\n",
            "Scraping https://resultats.gouv.tg/api/examens/bepc/502149\n",
            "Scraping https://resultats.gouv.tg/api/examens/bepc/502150\n",
            "Scraping https://resultats.gouv.tg/api/examens/bepc/502151\n",
            "Scraping https://resultats.gouv.tg/api/examens/bepc/502152\n",
            "Scraping https://resultats.gouv.tg/api/examens/bepc/502153\n",
            "Scraping https://resultats.gouv.tg/api/examens/bepc/502154\n",
            "Scraping https://resultats.gouv.tg/api/examens/bepc/502155\n",
            "Scraping https://resultats.gouv.tg/api/examens/bepc/502156\n",
            "Scraping https://resultats.gouv.tg/api/examens/bepc/502157\n",
            "Scraping https://resultats.gouv.tg/api/examens/bepc/502158\n",
            "Scraping https://resultats.gouv.tg/api/examens/bepc/502159\n",
            "Scraping https://resultats.gouv.tg/api/examens/bepc/502160\n",
            "Scraping https://resultats.gouv.tg/api/examens/bepc/502161\n",
            "Scraping https://resultats.gouv.tg/api/examens/bepc/502162\n",
            "Scraping https://resultats.gouv.tg/api/examens/bepc/502163\n",
            "Scraping https://resultats.gouv.tg/api/examens/bepc/502164\n",
            "Scraping https://resultats.gouv.tg/api/examens/bepc/502165\n",
            "Scraping https://resultats.gouv.tg/api/examens/bepc/502166\n",
            "Scraping https://resultats.gouv.tg/api/examens/bepc/502167\n",
            "Scraping https://resultats.gouv.tg/api/examens/bepc/502168\n",
            "Scraping https://resultats.gouv.tg/api/examens/bepc/502169\n",
            "Data has been saved to 'resultat_bepc_2024_apeyeme.xlsx'\n"
          ]
        },
        {
          "output_type": "display_data",
          "data": {
            "text/plain": [
              "<IPython.core.display.Javascript object>"
            ],
            "application/javascript": [
              "\n",
              "    async function download(id, filename, size) {\n",
              "      if (!google.colab.kernel.accessAllowed) {\n",
              "        return;\n",
              "      }\n",
              "      const div = document.createElement('div');\n",
              "      const label = document.createElement('label');\n",
              "      label.textContent = `Downloading \"${filename}\": `;\n",
              "      div.appendChild(label);\n",
              "      const progress = document.createElement('progress');\n",
              "      progress.max = size;\n",
              "      div.appendChild(progress);\n",
              "      document.body.appendChild(div);\n",
              "\n",
              "      const buffers = [];\n",
              "      let downloaded = 0;\n",
              "\n",
              "      const channel = await google.colab.kernel.comms.open(id);\n",
              "      // Send a message to notify the kernel that we're ready.\n",
              "      channel.send({})\n",
              "\n",
              "      for await (const message of channel.messages) {\n",
              "        // Send a message to notify the kernel that we're ready.\n",
              "        channel.send({})\n",
              "        if (message.buffers) {\n",
              "          for (const buffer of message.buffers) {\n",
              "            buffers.push(buffer);\n",
              "            downloaded += buffer.byteLength;\n",
              "            progress.value = downloaded;\n",
              "          }\n",
              "        }\n",
              "      }\n",
              "      const blob = new Blob(buffers, {type: 'application/binary'});\n",
              "      const a = document.createElement('a');\n",
              "      a.href = window.URL.createObjectURL(blob);\n",
              "      a.download = filename;\n",
              "      div.appendChild(a);\n",
              "      a.click();\n",
              "      div.remove();\n",
              "    }\n",
              "  "
            ]
          },
          "metadata": {}
        },
        {
          "output_type": "display_data",
          "data": {
            "text/plain": [
              "<IPython.core.display.Javascript object>"
            ],
            "application/javascript": [
              "download(\"download_af9833fb-67a9-494a-a952-8392664278f0\", \"resultat_bepc_2024_apeyeme.xlsx\", 50163)"
            ]
          },
          "metadata": {}
        }
      ]
    },
    {
      "cell_type": "code",
      "source": [
        "df\n"
      ],
      "metadata": {
        "collapsed": true,
        "id": "p0qv0QeMBaqe",
        "outputId": "139f2e54-2f9d-4905-937f-145382b3e215",
        "colab": {
          "base_uri": "https://localhost:8080/",
          "height": 721
        }
      },
      "execution_count": 12,
      "outputs": [
        {
          "output_type": "execute_result",
          "data": {
            "text/plain": [
              "    id_fiche_examen annee      centre_decrit date_naissance decision  \\\n",
              "0            353591  2024  CEG DANYI APEYEME     07/04/2008  Ajourne   \n",
              "1            351228  2024  CEG DANYI APEYEME     11/07/2009  Ajourne   \n",
              "2            352206  2024  CEG DANYI APEYEME     31/12/2005  Ajourne   \n",
              "3            351730  2024  CEG DANYI APEYEME     31/12/2005  Ajourne   \n",
              "4            355527  2024  CEG DANYI APEYEME     07/10/2007  Ajourne   \n",
              "..              ...   ...                ...            ...      ...   \n",
              "394          351251  2024  CEG DANYI APEYEME     21/02/2005  Ajourne   \n",
              "395          354614  2024  CEG DANYI APEYEME     01/04/2009  Ajourne   \n",
              "396          355085  2024  CEG DANYI APEYEME     31/12/2008  Ajourne   \n",
              "397          354100  2024  CEG DANYI APEYEME     31/12/2005  Ajourne   \n",
              "398          353139  2024  CEG DANYI APEYEME     09/03/2007  Ajourne   \n",
              "\n",
              "                     ets_provenance examen jury       lieu_naiss  mention  \\\n",
              "0                   CEG DANYI KPETO   BEPC  508   Danyi Gbaladzé  Ajourne   \n",
              "1             LYCEE DANYI KUDZRAGAN   BEPC  508       DISP YIKPA  Ajourne   \n",
              "2             LYCEE DANYI KUDZRAGAN   BEPC  508     Danyi Kponué  Ajourne   \n",
              "3                   CEG DANYI KPETO   BEPC  508       Danyi Dafo  Ajourne   \n",
              "4          CEG DANYI ATIGBA-N'DIGBE   BEPC  508             LOME  Ajourne   \n",
              "..                              ...    ...  ...              ...      ...   \n",
              "394            COLLEGE SAINT MICHEL   BEPC  509          KPALIME  Ajourne   \n",
              "395           LYCEE DANYI KUDZRAGAN   BEPC  509        KOUDZRAGA  Ajourne   \n",
              "396        CEG DANYI ATIGBA-N'DIGBE   BEPC  509  Danyi Koudzagan  Ajourne   \n",
              "397  CEG DANYI DZOGBEGAN-MEMPEASSEM   BEPC  509    AHLON ONANALE  Ajourne   \n",
              "398  CEG DANYI DZOGBEGAN-MEMPEASSEM   BEPC  509   DANYI -APEYEME  Ajourne   \n",
              "\n",
              "    moyenne                     nom_prenom num_table          region  \\\n",
              "0      None                    ABISSI Rock    501721  Plateaux Ouest   \n",
              "1      None     ABIYI Essodjelinam Sabilon    501722  Plateaux Ouest   \n",
              "2      None                    ABIYI Bruno    501723  Plateaux Ouest   \n",
              "3      None                    ADAGLO Adjo    501724  Plateaux Ouest   \n",
              "4      None          ADANYEBOU Kossi Serge    501725  Plateaux Ouest   \n",
              "..      ...                            ...       ...             ...   \n",
              "394    None  WOMPA Komi Elikplim Alexandre    502165  Plateaux Ouest   \n",
              "395    None            YAWLUI Kokou Hugues    502166  Plateaux Ouest   \n",
              "396    None              YAWULUI Kodjo Luc    502167  Plateaux Ouest   \n",
              "397    None                    YOMA Yawavi    502168  Plateaux Ouest   \n",
              "398    None             ZATE Afi Françoise    502169  Plateaux Ouest   \n",
              "\n",
              "    serie_filiere  session sexe telephone type_enseignement  \\\n",
              "0               B  Normale    M  97889326           GENERAL   \n",
              "1               B  Normale    M  90467325           GENERAL   \n",
              "2               B  Normale    M  98214924           GENERAL   \n",
              "3               B  Normale    F  96015600           GENERAL   \n",
              "4               B  Normale    M  79747789           GENERAL   \n",
              "..            ...      ...  ...       ...               ...   \n",
              "394             B  Normale    M  97835168           GENERAL   \n",
              "395             B  Normale    M  70563812           GENERAL   \n",
              "396             B  Normale    M  98080418           GENERAL   \n",
              "397             B  Normale    F  97204755           GENERAL   \n",
              "398             B  Normale    F  99045976           GENERAL   \n",
              "\n",
              "                                                   URL  \n",
              "0    https://resultats.gouv.tg/api/examens/bepc/501721  \n",
              "1    https://resultats.gouv.tg/api/examens/bepc/501722  \n",
              "2    https://resultats.gouv.tg/api/examens/bepc/501723  \n",
              "3    https://resultats.gouv.tg/api/examens/bepc/501724  \n",
              "4    https://resultats.gouv.tg/api/examens/bepc/501725  \n",
              "..                                                 ...  \n",
              "394  https://resultats.gouv.tg/api/examens/bepc/502165  \n",
              "395  https://resultats.gouv.tg/api/examens/bepc/502166  \n",
              "396  https://resultats.gouv.tg/api/examens/bepc/502167  \n",
              "397  https://resultats.gouv.tg/api/examens/bepc/502168  \n",
              "398  https://resultats.gouv.tg/api/examens/bepc/502169  \n",
              "\n",
              "[399 rows x 20 columns]"
            ],
            "text/html": [
              "\n",
              "  <div id=\"df-d7fac903-7a7a-4e92-b09f-8761c9641898\" class=\"colab-df-container\">\n",
              "    <div>\n",
              "<style scoped>\n",
              "    .dataframe tbody tr th:only-of-type {\n",
              "        vertical-align: middle;\n",
              "    }\n",
              "\n",
              "    .dataframe tbody tr th {\n",
              "        vertical-align: top;\n",
              "    }\n",
              "\n",
              "    .dataframe thead th {\n",
              "        text-align: right;\n",
              "    }\n",
              "</style>\n",
              "<table border=\"1\" class=\"dataframe\">\n",
              "  <thead>\n",
              "    <tr style=\"text-align: right;\">\n",
              "      <th></th>\n",
              "      <th>id_fiche_examen</th>\n",
              "      <th>annee</th>\n",
              "      <th>centre_decrit</th>\n",
              "      <th>date_naissance</th>\n",
              "      <th>decision</th>\n",
              "      <th>ets_provenance</th>\n",
              "      <th>examen</th>\n",
              "      <th>jury</th>\n",
              "      <th>lieu_naiss</th>\n",
              "      <th>mention</th>\n",
              "      <th>moyenne</th>\n",
              "      <th>nom_prenom</th>\n",
              "      <th>num_table</th>\n",
              "      <th>region</th>\n",
              "      <th>serie_filiere</th>\n",
              "      <th>session</th>\n",
              "      <th>sexe</th>\n",
              "      <th>telephone</th>\n",
              "      <th>type_enseignement</th>\n",
              "      <th>URL</th>\n",
              "    </tr>\n",
              "  </thead>\n",
              "  <tbody>\n",
              "    <tr>\n",
              "      <th>0</th>\n",
              "      <td>353591</td>\n",
              "      <td>2024</td>\n",
              "      <td>CEG DANYI APEYEME</td>\n",
              "      <td>07/04/2008</td>\n",
              "      <td>Ajourne</td>\n",
              "      <td>CEG DANYI KPETO</td>\n",
              "      <td>BEPC</td>\n",
              "      <td>508</td>\n",
              "      <td>Danyi Gbaladzé</td>\n",
              "      <td>Ajourne</td>\n",
              "      <td>None</td>\n",
              "      <td>ABISSI Rock</td>\n",
              "      <td>501721</td>\n",
              "      <td>Plateaux Ouest</td>\n",
              "      <td>B</td>\n",
              "      <td>Normale</td>\n",
              "      <td>M</td>\n",
              "      <td>97889326</td>\n",
              "      <td>GENERAL</td>\n",
              "      <td>https://resultats.gouv.tg/api/examens/bepc/501721</td>\n",
              "    </tr>\n",
              "    <tr>\n",
              "      <th>1</th>\n",
              "      <td>351228</td>\n",
              "      <td>2024</td>\n",
              "      <td>CEG DANYI APEYEME</td>\n",
              "      <td>11/07/2009</td>\n",
              "      <td>Ajourne</td>\n",
              "      <td>LYCEE DANYI KUDZRAGAN</td>\n",
              "      <td>BEPC</td>\n",
              "      <td>508</td>\n",
              "      <td>DISP YIKPA</td>\n",
              "      <td>Ajourne</td>\n",
              "      <td>None</td>\n",
              "      <td>ABIYI Essodjelinam Sabilon</td>\n",
              "      <td>501722</td>\n",
              "      <td>Plateaux Ouest</td>\n",
              "      <td>B</td>\n",
              "      <td>Normale</td>\n",
              "      <td>M</td>\n",
              "      <td>90467325</td>\n",
              "      <td>GENERAL</td>\n",
              "      <td>https://resultats.gouv.tg/api/examens/bepc/501722</td>\n",
              "    </tr>\n",
              "    <tr>\n",
              "      <th>2</th>\n",
              "      <td>352206</td>\n",
              "      <td>2024</td>\n",
              "      <td>CEG DANYI APEYEME</td>\n",
              "      <td>31/12/2005</td>\n",
              "      <td>Ajourne</td>\n",
              "      <td>LYCEE DANYI KUDZRAGAN</td>\n",
              "      <td>BEPC</td>\n",
              "      <td>508</td>\n",
              "      <td>Danyi Kponué</td>\n",
              "      <td>Ajourne</td>\n",
              "      <td>None</td>\n",
              "      <td>ABIYI Bruno</td>\n",
              "      <td>501723</td>\n",
              "      <td>Plateaux Ouest</td>\n",
              "      <td>B</td>\n",
              "      <td>Normale</td>\n",
              "      <td>M</td>\n",
              "      <td>98214924</td>\n",
              "      <td>GENERAL</td>\n",
              "      <td>https://resultats.gouv.tg/api/examens/bepc/501723</td>\n",
              "    </tr>\n",
              "    <tr>\n",
              "      <th>3</th>\n",
              "      <td>351730</td>\n",
              "      <td>2024</td>\n",
              "      <td>CEG DANYI APEYEME</td>\n",
              "      <td>31/12/2005</td>\n",
              "      <td>Ajourne</td>\n",
              "      <td>CEG DANYI KPETO</td>\n",
              "      <td>BEPC</td>\n",
              "      <td>508</td>\n",
              "      <td>Danyi Dafo</td>\n",
              "      <td>Ajourne</td>\n",
              "      <td>None</td>\n",
              "      <td>ADAGLO Adjo</td>\n",
              "      <td>501724</td>\n",
              "      <td>Plateaux Ouest</td>\n",
              "      <td>B</td>\n",
              "      <td>Normale</td>\n",
              "      <td>F</td>\n",
              "      <td>96015600</td>\n",
              "      <td>GENERAL</td>\n",
              "      <td>https://resultats.gouv.tg/api/examens/bepc/501724</td>\n",
              "    </tr>\n",
              "    <tr>\n",
              "      <th>4</th>\n",
              "      <td>355527</td>\n",
              "      <td>2024</td>\n",
              "      <td>CEG DANYI APEYEME</td>\n",
              "      <td>07/10/2007</td>\n",
              "      <td>Ajourne</td>\n",
              "      <td>CEG DANYI ATIGBA-N'DIGBE</td>\n",
              "      <td>BEPC</td>\n",
              "      <td>508</td>\n",
              "      <td>LOME</td>\n",
              "      <td>Ajourne</td>\n",
              "      <td>None</td>\n",
              "      <td>ADANYEBOU Kossi Serge</td>\n",
              "      <td>501725</td>\n",
              "      <td>Plateaux Ouest</td>\n",
              "      <td>B</td>\n",
              "      <td>Normale</td>\n",
              "      <td>M</td>\n",
              "      <td>79747789</td>\n",
              "      <td>GENERAL</td>\n",
              "      <td>https://resultats.gouv.tg/api/examens/bepc/501725</td>\n",
              "    </tr>\n",
              "    <tr>\n",
              "      <th>...</th>\n",
              "      <td>...</td>\n",
              "      <td>...</td>\n",
              "      <td>...</td>\n",
              "      <td>...</td>\n",
              "      <td>...</td>\n",
              "      <td>...</td>\n",
              "      <td>...</td>\n",
              "      <td>...</td>\n",
              "      <td>...</td>\n",
              "      <td>...</td>\n",
              "      <td>...</td>\n",
              "      <td>...</td>\n",
              "      <td>...</td>\n",
              "      <td>...</td>\n",
              "      <td>...</td>\n",
              "      <td>...</td>\n",
              "      <td>...</td>\n",
              "      <td>...</td>\n",
              "      <td>...</td>\n",
              "      <td>...</td>\n",
              "    </tr>\n",
              "    <tr>\n",
              "      <th>394</th>\n",
              "      <td>351251</td>\n",
              "      <td>2024</td>\n",
              "      <td>CEG DANYI APEYEME</td>\n",
              "      <td>21/02/2005</td>\n",
              "      <td>Ajourne</td>\n",
              "      <td>COLLEGE SAINT MICHEL</td>\n",
              "      <td>BEPC</td>\n",
              "      <td>509</td>\n",
              "      <td>KPALIME</td>\n",
              "      <td>Ajourne</td>\n",
              "      <td>None</td>\n",
              "      <td>WOMPA Komi Elikplim Alexandre</td>\n",
              "      <td>502165</td>\n",
              "      <td>Plateaux Ouest</td>\n",
              "      <td>B</td>\n",
              "      <td>Normale</td>\n",
              "      <td>M</td>\n",
              "      <td>97835168</td>\n",
              "      <td>GENERAL</td>\n",
              "      <td>https://resultats.gouv.tg/api/examens/bepc/502165</td>\n",
              "    </tr>\n",
              "    <tr>\n",
              "      <th>395</th>\n",
              "      <td>354614</td>\n",
              "      <td>2024</td>\n",
              "      <td>CEG DANYI APEYEME</td>\n",
              "      <td>01/04/2009</td>\n",
              "      <td>Ajourne</td>\n",
              "      <td>LYCEE DANYI KUDZRAGAN</td>\n",
              "      <td>BEPC</td>\n",
              "      <td>509</td>\n",
              "      <td>KOUDZRAGA</td>\n",
              "      <td>Ajourne</td>\n",
              "      <td>None</td>\n",
              "      <td>YAWLUI Kokou Hugues</td>\n",
              "      <td>502166</td>\n",
              "      <td>Plateaux Ouest</td>\n",
              "      <td>B</td>\n",
              "      <td>Normale</td>\n",
              "      <td>M</td>\n",
              "      <td>70563812</td>\n",
              "      <td>GENERAL</td>\n",
              "      <td>https://resultats.gouv.tg/api/examens/bepc/502166</td>\n",
              "    </tr>\n",
              "    <tr>\n",
              "      <th>396</th>\n",
              "      <td>355085</td>\n",
              "      <td>2024</td>\n",
              "      <td>CEG DANYI APEYEME</td>\n",
              "      <td>31/12/2008</td>\n",
              "      <td>Ajourne</td>\n",
              "      <td>CEG DANYI ATIGBA-N'DIGBE</td>\n",
              "      <td>BEPC</td>\n",
              "      <td>509</td>\n",
              "      <td>Danyi Koudzagan</td>\n",
              "      <td>Ajourne</td>\n",
              "      <td>None</td>\n",
              "      <td>YAWULUI Kodjo Luc</td>\n",
              "      <td>502167</td>\n",
              "      <td>Plateaux Ouest</td>\n",
              "      <td>B</td>\n",
              "      <td>Normale</td>\n",
              "      <td>M</td>\n",
              "      <td>98080418</td>\n",
              "      <td>GENERAL</td>\n",
              "      <td>https://resultats.gouv.tg/api/examens/bepc/502167</td>\n",
              "    </tr>\n",
              "    <tr>\n",
              "      <th>397</th>\n",
              "      <td>354100</td>\n",
              "      <td>2024</td>\n",
              "      <td>CEG DANYI APEYEME</td>\n",
              "      <td>31/12/2005</td>\n",
              "      <td>Ajourne</td>\n",
              "      <td>CEG DANYI DZOGBEGAN-MEMPEASSEM</td>\n",
              "      <td>BEPC</td>\n",
              "      <td>509</td>\n",
              "      <td>AHLON ONANALE</td>\n",
              "      <td>Ajourne</td>\n",
              "      <td>None</td>\n",
              "      <td>YOMA Yawavi</td>\n",
              "      <td>502168</td>\n",
              "      <td>Plateaux Ouest</td>\n",
              "      <td>B</td>\n",
              "      <td>Normale</td>\n",
              "      <td>F</td>\n",
              "      <td>97204755</td>\n",
              "      <td>GENERAL</td>\n",
              "      <td>https://resultats.gouv.tg/api/examens/bepc/502168</td>\n",
              "    </tr>\n",
              "    <tr>\n",
              "      <th>398</th>\n",
              "      <td>353139</td>\n",
              "      <td>2024</td>\n",
              "      <td>CEG DANYI APEYEME</td>\n",
              "      <td>09/03/2007</td>\n",
              "      <td>Ajourne</td>\n",
              "      <td>CEG DANYI DZOGBEGAN-MEMPEASSEM</td>\n",
              "      <td>BEPC</td>\n",
              "      <td>509</td>\n",
              "      <td>DANYI -APEYEME</td>\n",
              "      <td>Ajourne</td>\n",
              "      <td>None</td>\n",
              "      <td>ZATE Afi Françoise</td>\n",
              "      <td>502169</td>\n",
              "      <td>Plateaux Ouest</td>\n",
              "      <td>B</td>\n",
              "      <td>Normale</td>\n",
              "      <td>F</td>\n",
              "      <td>99045976</td>\n",
              "      <td>GENERAL</td>\n",
              "      <td>https://resultats.gouv.tg/api/examens/bepc/502169</td>\n",
              "    </tr>\n",
              "  </tbody>\n",
              "</table>\n",
              "<p>399 rows × 20 columns</p>\n",
              "</div>\n",
              "    <div class=\"colab-df-buttons\">\n",
              "\n",
              "  <div class=\"colab-df-container\">\n",
              "    <button class=\"colab-df-convert\" onclick=\"convertToInteractive('df-d7fac903-7a7a-4e92-b09f-8761c9641898')\"\n",
              "            title=\"Convert this dataframe to an interactive table.\"\n",
              "            style=\"display:none;\">\n",
              "\n",
              "  <svg xmlns=\"http://www.w3.org/2000/svg\" height=\"24px\" viewBox=\"0 -960 960 960\">\n",
              "    <path d=\"M120-120v-720h720v720H120Zm60-500h600v-160H180v160Zm220 220h160v-160H400v160Zm0 220h160v-160H400v160ZM180-400h160v-160H180v160Zm440 0h160v-160H620v160ZM180-180h160v-160H180v160Zm440 0h160v-160H620v160Z\"/>\n",
              "  </svg>\n",
              "    </button>\n",
              "\n",
              "  <style>\n",
              "    .colab-df-container {\n",
              "      display:flex;\n",
              "      gap: 12px;\n",
              "    }\n",
              "\n",
              "    .colab-df-convert {\n",
              "      background-color: #E8F0FE;\n",
              "      border: none;\n",
              "      border-radius: 50%;\n",
              "      cursor: pointer;\n",
              "      display: none;\n",
              "      fill: #1967D2;\n",
              "      height: 32px;\n",
              "      padding: 0 0 0 0;\n",
              "      width: 32px;\n",
              "    }\n",
              "\n",
              "    .colab-df-convert:hover {\n",
              "      background-color: #E2EBFA;\n",
              "      box-shadow: 0px 1px 2px rgba(60, 64, 67, 0.3), 0px 1px 3px 1px rgba(60, 64, 67, 0.15);\n",
              "      fill: #174EA6;\n",
              "    }\n",
              "\n",
              "    .colab-df-buttons div {\n",
              "      margin-bottom: 4px;\n",
              "    }\n",
              "\n",
              "    [theme=dark] .colab-df-convert {\n",
              "      background-color: #3B4455;\n",
              "      fill: #D2E3FC;\n",
              "    }\n",
              "\n",
              "    [theme=dark] .colab-df-convert:hover {\n",
              "      background-color: #434B5C;\n",
              "      box-shadow: 0px 1px 3px 1px rgba(0, 0, 0, 0.15);\n",
              "      filter: drop-shadow(0px 1px 2px rgba(0, 0, 0, 0.3));\n",
              "      fill: #FFFFFF;\n",
              "    }\n",
              "  </style>\n",
              "\n",
              "    <script>\n",
              "      const buttonEl =\n",
              "        document.querySelector('#df-d7fac903-7a7a-4e92-b09f-8761c9641898 button.colab-df-convert');\n",
              "      buttonEl.style.display =\n",
              "        google.colab.kernel.accessAllowed ? 'block' : 'none';\n",
              "\n",
              "      async function convertToInteractive(key) {\n",
              "        const element = document.querySelector('#df-d7fac903-7a7a-4e92-b09f-8761c9641898');\n",
              "        const dataTable =\n",
              "          await google.colab.kernel.invokeFunction('convertToInteractive',\n",
              "                                                    [key], {});\n",
              "        if (!dataTable) return;\n",
              "\n",
              "        const docLinkHtml = 'Like what you see? Visit the ' +\n",
              "          '<a target=\"_blank\" href=https://colab.research.google.com/notebooks/data_table.ipynb>data table notebook</a>'\n",
              "          + ' to learn more about interactive tables.';\n",
              "        element.innerHTML = '';\n",
              "        dataTable['output_type'] = 'display_data';\n",
              "        await google.colab.output.renderOutput(dataTable, element);\n",
              "        const docLink = document.createElement('div');\n",
              "        docLink.innerHTML = docLinkHtml;\n",
              "        element.appendChild(docLink);\n",
              "      }\n",
              "    </script>\n",
              "  </div>\n",
              "\n",
              "\n",
              "<div id=\"df-df043915-6cfc-44ed-9a3e-de523f4c671a\">\n",
              "  <button class=\"colab-df-quickchart\" onclick=\"quickchart('df-df043915-6cfc-44ed-9a3e-de523f4c671a')\"\n",
              "            title=\"Suggest charts\"\n",
              "            style=\"display:none;\">\n",
              "\n",
              "<svg xmlns=\"http://www.w3.org/2000/svg\" height=\"24px\"viewBox=\"0 0 24 24\"\n",
              "     width=\"24px\">\n",
              "    <g>\n",
              "        <path d=\"M19 3H5c-1.1 0-2 .9-2 2v14c0 1.1.9 2 2 2h14c1.1 0 2-.9 2-2V5c0-1.1-.9-2-2-2zM9 17H7v-7h2v7zm4 0h-2V7h2v10zm4 0h-2v-4h2v4z\"/>\n",
              "    </g>\n",
              "</svg>\n",
              "  </button>\n",
              "\n",
              "<style>\n",
              "  .colab-df-quickchart {\n",
              "      --bg-color: #E8F0FE;\n",
              "      --fill-color: #1967D2;\n",
              "      --hover-bg-color: #E2EBFA;\n",
              "      --hover-fill-color: #174EA6;\n",
              "      --disabled-fill-color: #AAA;\n",
              "      --disabled-bg-color: #DDD;\n",
              "  }\n",
              "\n",
              "  [theme=dark] .colab-df-quickchart {\n",
              "      --bg-color: #3B4455;\n",
              "      --fill-color: #D2E3FC;\n",
              "      --hover-bg-color: #434B5C;\n",
              "      --hover-fill-color: #FFFFFF;\n",
              "      --disabled-bg-color: #3B4455;\n",
              "      --disabled-fill-color: #666;\n",
              "  }\n",
              "\n",
              "  .colab-df-quickchart {\n",
              "    background-color: var(--bg-color);\n",
              "    border: none;\n",
              "    border-radius: 50%;\n",
              "    cursor: pointer;\n",
              "    display: none;\n",
              "    fill: var(--fill-color);\n",
              "    height: 32px;\n",
              "    padding: 0;\n",
              "    width: 32px;\n",
              "  }\n",
              "\n",
              "  .colab-df-quickchart:hover {\n",
              "    background-color: var(--hover-bg-color);\n",
              "    box-shadow: 0 1px 2px rgba(60, 64, 67, 0.3), 0 1px 3px 1px rgba(60, 64, 67, 0.15);\n",
              "    fill: var(--button-hover-fill-color);\n",
              "  }\n",
              "\n",
              "  .colab-df-quickchart-complete:disabled,\n",
              "  .colab-df-quickchart-complete:disabled:hover {\n",
              "    background-color: var(--disabled-bg-color);\n",
              "    fill: var(--disabled-fill-color);\n",
              "    box-shadow: none;\n",
              "  }\n",
              "\n",
              "  .colab-df-spinner {\n",
              "    border: 2px solid var(--fill-color);\n",
              "    border-color: transparent;\n",
              "    border-bottom-color: var(--fill-color);\n",
              "    animation:\n",
              "      spin 1s steps(1) infinite;\n",
              "  }\n",
              "\n",
              "  @keyframes spin {\n",
              "    0% {\n",
              "      border-color: transparent;\n",
              "      border-bottom-color: var(--fill-color);\n",
              "      border-left-color: var(--fill-color);\n",
              "    }\n",
              "    20% {\n",
              "      border-color: transparent;\n",
              "      border-left-color: var(--fill-color);\n",
              "      border-top-color: var(--fill-color);\n",
              "    }\n",
              "    30% {\n",
              "      border-color: transparent;\n",
              "      border-left-color: var(--fill-color);\n",
              "      border-top-color: var(--fill-color);\n",
              "      border-right-color: var(--fill-color);\n",
              "    }\n",
              "    40% {\n",
              "      border-color: transparent;\n",
              "      border-right-color: var(--fill-color);\n",
              "      border-top-color: var(--fill-color);\n",
              "    }\n",
              "    60% {\n",
              "      border-color: transparent;\n",
              "      border-right-color: var(--fill-color);\n",
              "    }\n",
              "    80% {\n",
              "      border-color: transparent;\n",
              "      border-right-color: var(--fill-color);\n",
              "      border-bottom-color: var(--fill-color);\n",
              "    }\n",
              "    90% {\n",
              "      border-color: transparent;\n",
              "      border-bottom-color: var(--fill-color);\n",
              "    }\n",
              "  }\n",
              "</style>\n",
              "\n",
              "  <script>\n",
              "    async function quickchart(key) {\n",
              "      const quickchartButtonEl =\n",
              "        document.querySelector('#' + key + ' button');\n",
              "      quickchartButtonEl.disabled = true;  // To prevent multiple clicks.\n",
              "      quickchartButtonEl.classList.add('colab-df-spinner');\n",
              "      try {\n",
              "        const charts = await google.colab.kernel.invokeFunction(\n",
              "            'suggestCharts', [key], {});\n",
              "      } catch (error) {\n",
              "        console.error('Error during call to suggestCharts:', error);\n",
              "      }\n",
              "      quickchartButtonEl.classList.remove('colab-df-spinner');\n",
              "      quickchartButtonEl.classList.add('colab-df-quickchart-complete');\n",
              "    }\n",
              "    (() => {\n",
              "      let quickchartButtonEl =\n",
              "        document.querySelector('#df-df043915-6cfc-44ed-9a3e-de523f4c671a button');\n",
              "      quickchartButtonEl.style.display =\n",
              "        google.colab.kernel.accessAllowed ? 'block' : 'none';\n",
              "    })();\n",
              "  </script>\n",
              "</div>\n",
              "\n",
              "  <div id=\"id_62882b55-de05-4671-845c-d32d202ba539\">\n",
              "    <style>\n",
              "      .colab-df-generate {\n",
              "        background-color: #E8F0FE;\n",
              "        border: none;\n",
              "        border-radius: 50%;\n",
              "        cursor: pointer;\n",
              "        display: none;\n",
              "        fill: #1967D2;\n",
              "        height: 32px;\n",
              "        padding: 0 0 0 0;\n",
              "        width: 32px;\n",
              "      }\n",
              "\n",
              "      .colab-df-generate:hover {\n",
              "        background-color: #E2EBFA;\n",
              "        box-shadow: 0px 1px 2px rgba(60, 64, 67, 0.3), 0px 1px 3px 1px rgba(60, 64, 67, 0.15);\n",
              "        fill: #174EA6;\n",
              "      }\n",
              "\n",
              "      [theme=dark] .colab-df-generate {\n",
              "        background-color: #3B4455;\n",
              "        fill: #D2E3FC;\n",
              "      }\n",
              "\n",
              "      [theme=dark] .colab-df-generate:hover {\n",
              "        background-color: #434B5C;\n",
              "        box-shadow: 0px 1px 3px 1px rgba(0, 0, 0, 0.15);\n",
              "        filter: drop-shadow(0px 1px 2px rgba(0, 0, 0, 0.3));\n",
              "        fill: #FFFFFF;\n",
              "      }\n",
              "    </style>\n",
              "    <button class=\"colab-df-generate\" onclick=\"generateWithVariable('df')\"\n",
              "            title=\"Generate code using this dataframe.\"\n",
              "            style=\"display:none;\">\n",
              "\n",
              "  <svg xmlns=\"http://www.w3.org/2000/svg\" height=\"24px\"viewBox=\"0 0 24 24\"\n",
              "       width=\"24px\">\n",
              "    <path d=\"M7,19H8.4L18.45,9,17,7.55,7,17.6ZM5,21V16.75L18.45,3.32a2,2,0,0,1,2.83,0l1.4,1.43a1.91,1.91,0,0,1,.58,1.4,1.91,1.91,0,0,1-.58,1.4L9.25,21ZM18.45,9,17,7.55Zm-12,3A5.31,5.31,0,0,0,4.9,8.1,5.31,5.31,0,0,0,1,6.5,5.31,5.31,0,0,0,4.9,4.9,5.31,5.31,0,0,0,6.5,1,5.31,5.31,0,0,0,8.1,4.9,5.31,5.31,0,0,0,12,6.5,5.46,5.46,0,0,0,6.5,12Z\"/>\n",
              "  </svg>\n",
              "    </button>\n",
              "    <script>\n",
              "      (() => {\n",
              "      const buttonEl =\n",
              "        document.querySelector('#id_62882b55-de05-4671-845c-d32d202ba539 button.colab-df-generate');\n",
              "      buttonEl.style.display =\n",
              "        google.colab.kernel.accessAllowed ? 'block' : 'none';\n",
              "\n",
              "      buttonEl.onclick = () => {\n",
              "        google.colab.notebook.generateWithVariable('df');\n",
              "      }\n",
              "      })();\n",
              "    </script>\n",
              "  </div>\n",
              "\n",
              "    </div>\n",
              "  </div>\n"
            ],
            "application/vnd.google.colaboratory.intrinsic+json": {
              "type": "dataframe",
              "variable_name": "df",
              "repr_error": "Out of range float values are not JSON compliant: nan"
            }
          },
          "metadata": {},
          "execution_count": 12
        }
      ]
    },
    {
      "cell_type": "code",
      "source": [
        "print(df.head())"
      ],
      "metadata": {
        "collapsed": true,
        "id": "1oSHEFazCGP5",
        "outputId": "cf44467e-2441-4a55-dd6e-57ca335e0a2f",
        "colab": {
          "base_uri": "https://localhost:8080/"
        }
      },
      "execution_count": 15,
      "outputs": [
        {
          "output_type": "stream",
          "name": "stdout",
          "text": [
            "  id_fiche_examen annee      centre_decrit date_naissance decision  \\\n",
            "0          353591  2024  CEG DANYI APEYEME     07/04/2008  Ajourne   \n",
            "1          351228  2024  CEG DANYI APEYEME     11/07/2009  Ajourne   \n",
            "2          352206  2024  CEG DANYI APEYEME     31/12/2005  Ajourne   \n",
            "3          351730  2024  CEG DANYI APEYEME     31/12/2005  Ajourne   \n",
            "4          355527  2024  CEG DANYI APEYEME     07/10/2007  Ajourne   \n",
            "\n",
            "             ets_provenance examen jury      lieu_naiss  mention moyenne  \\\n",
            "0           CEG DANYI KPETO   BEPC  508  Danyi Gbaladzé  Ajourne    None   \n",
            "1     LYCEE DANYI KUDZRAGAN   BEPC  508      DISP YIKPA  Ajourne    None   \n",
            "2     LYCEE DANYI KUDZRAGAN   BEPC  508    Danyi Kponué  Ajourne    None   \n",
            "3           CEG DANYI KPETO   BEPC  508      Danyi Dafo  Ajourne    None   \n",
            "4  CEG DANYI ATIGBA-N'DIGBE   BEPC  508            LOME  Ajourne    None   \n",
            "\n",
            "                   nom_prenom num_table          region serie_filiere  \\\n",
            "0                 ABISSI Rock    501721  Plateaux Ouest             B   \n",
            "1  ABIYI Essodjelinam Sabilon    501722  Plateaux Ouest             B   \n",
            "2                 ABIYI Bruno    501723  Plateaux Ouest             B   \n",
            "3                 ADAGLO Adjo    501724  Plateaux Ouest             B   \n",
            "4       ADANYEBOU Kossi Serge    501725  Plateaux Ouest             B   \n",
            "\n",
            "   session sexe telephone type_enseignement  \\\n",
            "0  Normale    M  97889326           GENERAL   \n",
            "1  Normale    M  90467325           GENERAL   \n",
            "2  Normale    M  98214924           GENERAL   \n",
            "3  Normale    F  96015600           GENERAL   \n",
            "4  Normale    M  79747789           GENERAL   \n",
            "\n",
            "                                                 URL  \n",
            "0  https://resultats.gouv.tg/api/examens/bepc/501721  \n",
            "1  https://resultats.gouv.tg/api/examens/bepc/501722  \n",
            "2  https://resultats.gouv.tg/api/examens/bepc/501723  \n",
            "3  https://resultats.gouv.tg/api/examens/bepc/501724  \n",
            "4  https://resultats.gouv.tg/api/examens/bepc/501725  \n"
          ]
        }
      ]
    },
    {
      "cell_type": "code",
      "source": [
        "# Résumé statistique des données numériques\n",
        "print(df.describe())"
      ],
      "metadata": {
        "collapsed": true,
        "id": "wwcw8p3QDApw",
        "outputId": "ad8c983c-489f-4d40-b8e9-c72d0335f885",
        "colab": {
          "base_uri": "https://localhost:8080/"
        }
      },
      "execution_count": 16,
      "outputs": [
        {
          "output_type": "stream",
          "name": "stdout",
          "text": [
            "       id_fiche_examen annee      centre_decrit date_naissance decision  \\\n",
            "count              399   399                399            399      399   \n",
            "unique             399     1                  1            291        6   \n",
            "top             353591  2024  CEG DANYI APEYEME     31/12/2008  Ajourne   \n",
            "freq                 1   399                399             29      315   \n",
            "\n",
            "                  ets_provenance examen jury     lieu_naiss  mention moyenne  \\\n",
            "count                        399    399  399            399      399       0   \n",
            "unique                         8      1    2            153        6       0   \n",
            "top     CEG DANYI ATIGBA-N'DIGBE   BEPC  508  Danyi-Apéyémé  Ajourne     NaN   \n",
            "freq                          91    399  200             34      315     NaN   \n",
            "\n",
            "         nom_prenom num_table          region serie_filiere  session sexe  \\\n",
            "count           399       399             399           399      399  399   \n",
            "unique          399       399               1             1        1    2   \n",
            "top     ABISSI Rock    501721  Plateaux Ouest             B  Normale    M   \n",
            "freq              1         1             399           399      399  215   \n",
            "\n",
            "       telephone type_enseignement  \\\n",
            "count        399               399   \n",
            "unique       355                 1   \n",
            "top     98214924           GENERAL   \n",
            "freq          14               399   \n",
            "\n",
            "                                                      URL  \n",
            "count                                                 399  \n",
            "unique                                                399  \n",
            "top     https://resultats.gouv.tg/api/examens/bepc/501721  \n",
            "freq                                                    1  \n"
          ]
        }
      ]
    },
    {
      "cell_type": "code",
      "source": [
        "# Vérifier les types de données et les informations sur les colonnes\n",
        "print(df.info())"
      ],
      "metadata": {
        "collapsed": true,
        "id": "MiYNxYtYDajj",
        "outputId": "eff019ef-79a1-4ded-f190-c6acaafebc3b",
        "colab": {
          "base_uri": "https://localhost:8080/"
        }
      },
      "execution_count": 17,
      "outputs": [
        {
          "output_type": "stream",
          "name": "stdout",
          "text": [
            "<class 'pandas.core.frame.DataFrame'>\n",
            "RangeIndex: 399 entries, 0 to 398\n",
            "Data columns (total 20 columns):\n",
            " #   Column             Non-Null Count  Dtype \n",
            "---  ------             --------------  ----- \n",
            " 0   id_fiche_examen    399 non-null    object\n",
            " 1   annee              399 non-null    object\n",
            " 2   centre_decrit      399 non-null    object\n",
            " 3   date_naissance     399 non-null    object\n",
            " 4   decision           399 non-null    object\n",
            " 5   ets_provenance     399 non-null    object\n",
            " 6   examen             399 non-null    object\n",
            " 7   jury               399 non-null    object\n",
            " 8   lieu_naiss         399 non-null    object\n",
            " 9   mention            399 non-null    object\n",
            " 10  moyenne            0 non-null      object\n",
            " 11  nom_prenom         399 non-null    object\n",
            " 12  num_table          399 non-null    object\n",
            " 13  region             399 non-null    object\n",
            " 14  serie_filiere      399 non-null    object\n",
            " 15  session            399 non-null    object\n",
            " 16  sexe               399 non-null    object\n",
            " 17  telephone          399 non-null    object\n",
            " 18  type_enseignement  399 non-null    object\n",
            " 19  URL                399 non-null    object\n",
            "dtypes: object(20)\n",
            "memory usage: 62.5+ KB\n",
            "None\n"
          ]
        }
      ]
    },
    {
      "cell_type": "code",
      "source": [
        "count_by_ets = df['ets_provenance'].value_counts()\n",
        "print(count_by_ets)"
      ],
      "metadata": {
        "collapsed": true,
        "id": "Qzu2Wp9qDiBP",
        "outputId": "771f1abb-8da0-44ed-dee5-abd258646fe8",
        "colab": {
          "base_uri": "https://localhost:8080/"
        }
      },
      "execution_count": 19,
      "outputs": [
        {
          "output_type": "stream",
          "name": "stdout",
          "text": [
            "ets_provenance\n",
            "CEG DANYI ATIGBA-N'DIGBE          91\n",
            "CEG DANYI APEYEME                 81\n",
            "CEG DANYI KPETO                   67\n",
            "LYCEE DANYI KUDZRAGAN             53\n",
            "COLLEGE SAINT MICHEL              40\n",
            "CEG DANYI DZOGBEGAN-MEMPEASSEM    37\n",
            "CEG DANYI AMEGAPE-NYAMEGBE        19\n",
            "CEG DANYI KETEME                  11\n",
            "Name: count, dtype: int64\n"
          ]
        }
      ]
    },
    {
      "cell_type": "code",
      "source": [
        "# Taux de réussite par établissement de provenance\n",
        "success_rate_by_ets = df.groupby('ets_provenance')['decision'].apply(lambda x: (x != 'Ajourne').sum() / len(x) * 100)\n",
        "print(success_rate_by_ets)"
      ],
      "metadata": {
        "collapsed": true,
        "id": "loCtyMMCDu9c",
        "outputId": "2131270b-00b7-4064-d0ef-a90c0e72c08f",
        "colab": {
          "base_uri": "https://localhost:8080/"
        }
      },
      "execution_count": 23,
      "outputs": [
        {
          "output_type": "stream",
          "name": "stdout",
          "text": [
            "ets_provenance\n",
            "CEG DANYI AMEGAPE-NYAMEGBE        31.578947\n",
            "CEG DANYI APEYEME                 33.333333\n",
            "CEG DANYI ATIGBA-N'DIGBE          15.384615\n",
            "CEG DANYI DZOGBEGAN-MEMPEASSEM    24.324324\n",
            "CEG DANYI KETEME                  18.181818\n",
            "CEG DANYI KPETO                    7.462687\n",
            "COLLEGE SAINT MICHEL              27.500000\n",
            "LYCEE DANYI KUDZRAGAN             18.867925\n",
            "Name: decision, dtype: float64\n"
          ]
        }
      ]
    },
    {
      "cell_type": "code",
      "source": [
        "df['decision'].unique()"
      ],
      "metadata": {
        "collapsed": true,
        "id": "1iSFLOJxEj1y",
        "outputId": "730e5df7-c933-4e9d-d1b0-43c226405062",
        "colab": {
          "base_uri": "https://localhost:8080/"
        }
      },
      "execution_count": 25,
      "outputs": [
        {
          "output_type": "execute_result",
          "data": {
            "text/plain": [
              "array(['Ajourne', 'Passable', 'TBien', 'Abien', 'Absent', 'Bien'],\n",
              "      dtype=object)"
            ]
          },
          "metadata": {},
          "execution_count": 25
        }
      ]
    },
    {
      "cell_type": "code",
      "source": [
        "import pandas as pd\n",
        "import matplotlib.pyplot as plt\n",
        "\n",
        "\n",
        "# Calculer les taux de réussite et d'échec par ets_provenance\n",
        "summary = df.groupby('ets_provenance')['decision'].value_counts(normalize=True).unstack().fillna(0)\n",
        "\n",
        "print(summary)\n"
      ],
      "metadata": {
        "collapsed": true,
        "id": "N-44PGn4GR9V",
        "outputId": "4df26d45-30ea-4e6d-907e-7c47f9e2d71c",
        "colab": {
          "base_uri": "https://localhost:8080/"
        }
      },
      "execution_count": 35,
      "outputs": [
        {
          "output_type": "stream",
          "name": "stdout",
          "text": [
            "decision                           Abien    Absent   Ajourne      Bien  \\\n",
            "ets_provenance                                                           \n",
            "CEG DANYI AMEGAPE-NYAMEGBE      0.000000  0.052632  0.684211  0.000000   \n",
            "CEG DANYI APEYEME               0.024691  0.049383  0.666667  0.000000   \n",
            "CEG DANYI ATIGBA-N'DIGBE        0.010989  0.000000  0.846154  0.000000   \n",
            "CEG DANYI DZOGBEGAN-MEMPEASSEM  0.000000  0.027027  0.756757  0.054054   \n",
            "CEG DANYI KETEME                0.000000  0.000000  0.818182  0.000000   \n",
            "CEG DANYI KPETO                 0.000000  0.029851  0.925373  0.000000   \n",
            "COLLEGE SAINT MICHEL            0.050000  0.000000  0.725000  0.025000   \n",
            "LYCEE DANYI KUDZRAGAN           0.037736  0.000000  0.811321  0.000000   \n",
            "\n",
            "decision                        Passable     TBien  \n",
            "ets_provenance                                      \n",
            "CEG DANYI AMEGAPE-NYAMEGBE      0.263158  0.000000  \n",
            "CEG DANYI APEYEME               0.259259  0.000000  \n",
            "CEG DANYI ATIGBA-N'DIGBE        0.142857  0.000000  \n",
            "CEG DANYI DZOGBEGAN-MEMPEASSEM  0.135135  0.027027  \n",
            "CEG DANYI KETEME                0.181818  0.000000  \n",
            "CEG DANYI KPETO                 0.044776  0.000000  \n",
            "COLLEGE SAINT MICHEL            0.175000  0.025000  \n",
            "LYCEE DANYI KUDZRAGAN           0.150943  0.000000  \n"
          ]
        }
      ]
    },
    {
      "cell_type": "code",
      "source": [
        "import pandas as pd\n",
        "import matplotlib.pyplot as plt\n",
        "import seaborn as sns\n",
        "# Créer un tableau croisé dynamique pour obtenir les effectifs\n",
        "pivot_table = pd.pivot_table(df, index='ets_provenance', columns='decision', aggfunc='size', fill_value=0)\n",
        "\n",
        "\n",
        "# Créer le heatmap à partir du tableau croisé dynamique\n",
        "plt.figure(figsize=(8, 6))\n",
        "sns.heatmap(pivot_table, annot=True, cmap='Reds', fmt='d')\n",
        "plt.title('Effectifs par éts et décision')\n",
        "plt.xlabel('Decision')\n",
        "plt.ylabel('E')\n",
        "plt.yticks(rotation=0)\n",
        "plt.show()\n"
      ],
      "metadata": {
        "id": "cJYXnvDiJXPD",
        "outputId": "6d874f67-9a27-422f-cb97-552240e85a44",
        "colab": {
          "base_uri": "https://localhost:8080/",
          "height": 565
        }
      },
      "execution_count": 41,
      "outputs": [
        {
          "output_type": "display_data",
          "data": {
            "text/plain": [
              "<Figure size 800x600 with 2 Axes>"
            ],
            "image/png": "[encoded data removed]"
          },
          "metadata": {}
        }
      ]
    },
    {
      "cell_type": "code",
      "source": [
        "df[\"decision\"].unique()"
      ],
      "metadata": {
        "id": "VI0ciK01IRBu",
        "outputId": "9910822b-a904-485b-9ca6-29904c9e4b11",
        "colab": {
          "base_uri": "https://localhost:8080/"
        }
      },
      "execution_count": 32,
      "outputs": [
        {
          "output_type": "execute_result",
          "data": {
            "text/plain": [
              "array(['Ajourne', 'Passable', 'TBien', 'Abien', 'Absent', 'Bien'],\n",
              "      dtype=object)"
            ]
          },
          "metadata": {},
          "execution_count": 32
        }
      ]
    }
  ]
}