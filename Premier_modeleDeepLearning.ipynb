{
  "nbformat": 4,
  "nbformat_minor": 0,
  "metadata": {
    "colab": {
      "provenance": [],
      "include_colab_link": true
    },
    "kernelspec": {
      "name": "python3",
      "display_name": "Python 3"
    },
    "language_info": {
      "name": "python"
    }
  },
  "cells": [
    {
      "cell_type": "markdown",
      "metadata": {
        "id": "view-in-github",
        "colab_type": "text"
      },
      "source": [
        "<a href=\"https://colab.research.google.com/github/amentetteh/AwesomeBooks/blob/main/Premier_modeleDeepLearning.ipynb\" target=\"_parent\"><img src=\"https://colab.research.google.com/assets/colab-badge.svg\" alt=\"Open In Colab\"/></a>"
      ]
    },
    {
      "cell_type": "code",
      "execution_count": null,
      "metadata": {
        "id": "xJ_QG2Op0Lkx"
      },
      "outputs": [],
      "source": [
        "#Importation des librairies\n",
        "import numpy as np\n",
        "import tensorflow as tf\n",
        "from tensorflow.keras.datasets import mnist\n",
        "from tensorflow.keras import models, layers\n"
      ]
    },
    {
      "cell_type": "code",
      "source": [
        "# Charger les données MNIST\n",
        "(X_train, y_train), (X_test, y_test) = mnist.load_data()\n",
        "# Toutees bases\n",
        "#https://keras.io/api/datasets/"
      ],
      "metadata": {
        "colab": {
          "base_uri": "https://localhost:8080/"
        },
        "id": "LFvfsk0a0ihB",
        "outputId": "a34937ae-504c-4a44-8691-d48359eb70a8"
      },
      "execution_count": null,
      "outputs": [
        {
          "output_type": "stream",
          "name": "stdout",
          "text": [
            "Downloading data from https://storage.googleapis.com/tensorflow/tf-keras-datasets/mnist.npz\n",
            "11490434/11490434 [==============================] - 0s 0us/step\n"
          ]
        }
      ]
    },
    {
      "cell_type": "code",
      "source": [
        "X_train"
      ],
      "metadata": {
        "colab": {
          "base_uri": "https://localhost:8080/"
        },
        "id": "OsU1s8gE1A2F",
        "outputId": "0ee23d78-2dcc-45d0-e01a-69397cc507cf"
      },
      "execution_count": null,
      "outputs": [
        {
          "output_type": "execute_result",
          "data": {
            "text/plain": [
              "array([[[0, 0, 0, ..., 0, 0, 0],\n",
              "        [0, 0, 0, ..., 0, 0, 0],\n",
              "        [0, 0, 0, ..., 0, 0, 0],\n",
              "        ...,\n",
              "        [0, 0, 0, ..., 0, 0, 0],\n",
              "        [0, 0, 0, ..., 0, 0, 0],\n",
              "        [0, 0, 0, ..., 0, 0, 0]],\n",
              "\n",
              "       [[0, 0, 0, ..., 0, 0, 0],\n",
              "        [0, 0, 0, ..., 0, 0, 0],\n",
              "        [0, 0, 0, ..., 0, 0, 0],\n",
              "        ...,\n",
              "        [0, 0, 0, ..., 0, 0, 0],\n",
              "        [0, 0, 0, ..., 0, 0, 0],\n",
              "        [0, 0, 0, ..., 0, 0, 0]],\n",
              "\n",
              "       [[0, 0, 0, ..., 0, 0, 0],\n",
              "        [0, 0, 0, ..., 0, 0, 0],\n",
              "        [0, 0, 0, ..., 0, 0, 0],\n",
              "        ...,\n",
              "        [0, 0, 0, ..., 0, 0, 0],\n",
              "        [0, 0, 0, ..., 0, 0, 0],\n",
              "        [0, 0, 0, ..., 0, 0, 0]],\n",
              "\n",
              "       ...,\n",
              "\n",
              "       [[0, 0, 0, ..., 0, 0, 0],\n",
              "        [0, 0, 0, ..., 0, 0, 0],\n",
              "        [0, 0, 0, ..., 0, 0, 0],\n",
              "        ...,\n",
              "        [0, 0, 0, ..., 0, 0, 0],\n",
              "        [0, 0, 0, ..., 0, 0, 0],\n",
              "        [0, 0, 0, ..., 0, 0, 0]],\n",
              "\n",
              "       [[0, 0, 0, ..., 0, 0, 0],\n",
              "        [0, 0, 0, ..., 0, 0, 0],\n",
              "        [0, 0, 0, ..., 0, 0, 0],\n",
              "        ...,\n",
              "        [0, 0, 0, ..., 0, 0, 0],\n",
              "        [0, 0, 0, ..., 0, 0, 0],\n",
              "        [0, 0, 0, ..., 0, 0, 0]],\n",
              "\n",
              "       [[0, 0, 0, ..., 0, 0, 0],\n",
              "        [0, 0, 0, ..., 0, 0, 0],\n",
              "        [0, 0, 0, ..., 0, 0, 0],\n",
              "        ...,\n",
              "        [0, 0, 0, ..., 0, 0, 0],\n",
              "        [0, 0, 0, ..., 0, 0, 0],\n",
              "        [0, 0, 0, ..., 0, 0, 0]]], dtype=uint8)"
            ]
          },
          "metadata": {},
          "execution_count": 4
        }
      ]
    },
    {
      "cell_type": "code",
      "source": [
        "np.min(X_train)\n",
        "np.max(X_train)"
      ],
      "metadata": {
        "colab": {
          "base_uri": "https://localhost:8080/"
        },
        "id": "JPFcITXH1Sml",
        "outputId": "43ddfda0-af0d-4aad-e0f9-b2cbb6872c89"
      },
      "execution_count": null,
      "outputs": [
        {
          "output_type": "execute_result",
          "data": {
            "text/plain": [
              "255"
            ]
          },
          "metadata": {},
          "execution_count": 6
        }
      ]
    },
    {
      "cell_type": "code",
      "source": [
        "X_test.shape"
      ],
      "metadata": {
        "colab": {
          "base_uri": "https://localhost:8080/"
        },
        "id": "o4SLcthq1dwB",
        "outputId": "185ece8a-2b3b-403c-bbfc-a432fe28da36"
      },
      "execution_count": null,
      "outputs": [
        {
          "output_type": "execute_result",
          "data": {
            "text/plain": [
              "(10000, 28, 28)"
            ]
          },
          "metadata": {},
          "execution_count": 7
        }
      ]
    },
    {
      "cell_type": "code",
      "source": [
        "y_train"
      ],
      "metadata": {
        "colab": {
          "base_uri": "https://localhost:8080/"
        },
        "id": "ogzZ9mi01g64",
        "outputId": "8488857b-f131-41d1-adec-f54636e17f2f"
      },
      "execution_count": null,
      "outputs": [
        {
          "output_type": "execute_result",
          "data": {
            "text/plain": [
              "array([5, 0, 4, ..., 5, 6, 8], dtype=uint8)"
            ]
          },
          "metadata": {},
          "execution_count": 8
        }
      ]
    },
    {
      "cell_type": "code",
      "source": [
        "import matplotlib.pyplot as plt\n",
        "# Afficher 10 images du dataset\n",
        "# Crée une nouvelle figure de taille 10x1 pouces\n",
        "plt.figure(figsize=(10, 1))\n",
        "\n",
        "# Boucle sur les 10 premières images de X_train\n",
        "for i in range(10):\n",
        "    # Ajoute un sous-plot dans une grille de 1 ligne par 10 colonnes\n",
        "    plt.subplot(1, 10, i+1)\n",
        "    # Affiche l'image i de X_train en niveaux de gris\n",
        "    plt.imshow(X_train[i], cmap='gray')\n",
        "    # Désactive les axes pour une visualisation plus propre\n",
        "    plt.axis('off')\n",
        "\n",
        "# Affiche la figure contenant les 10 images\n",
        "plt.show()"
      ],
      "metadata": {
        "colab": {
          "base_uri": "https://localhost:8080/",
          "height": 85
        },
        "id": "BiLrl8zt1oip",
        "outputId": "66007adb-5e8b-41a6-d955-076b6cd7f7a7"
      },
      "execution_count": null,
      "outputs": [
        {
          "output_type": "display_data",
          "data": {
            "text/plain": [
              "<Figure size 1000x100 with 10 Axes>"
            ],
            "image/png": "[encoded data removed]"
          },
          "metadata": {}
        }
      ]
    },
    {
      "cell_type": "code",
      "source": [
        "# Normalisation des données\n",
        "# Les valeurs de pixels dans les images MNIST vont de 0 à 255.\n",
        "# - 0 représente le noir complet\n",
        "# - 255 représente le blanc complet\n",
        "# Nous divisons ces valeurs par 255 pour les ramener dans la plage [0, 1].\n",
        "# Cela améliore la stabilité numérique et accélère la convergence du modèle d'apprentissage.\n",
        "X_train = X_train / 255.0\n",
        "X_test = X_test / 255.0"
      ],
      "metadata": {
        "id": "xCDfvWvb2N4s"
      },
      "execution_count": null,
      "outputs": []
    },
    {
      "cell_type": "code",
      "source": [
        "y_train"
      ],
      "metadata": {
        "colab": {
          "base_uri": "https://localhost:8080/"
        },
        "id": "U9dPIah02flZ",
        "outputId": "4ed7126f-a476-408c-aba8-538f0136656d"
      },
      "execution_count": null,
      "outputs": [
        {
          "output_type": "execute_result",
          "data": {
            "text/plain": [
              "array([5, 0, 4, ..., 5, 6, 8], dtype=uint8)"
            ]
          },
          "metadata": {},
          "execution_count": 12
        }
      ]
    },
    {
      "cell_type": "code",
      "source": [
        "from tensorflow.keras.utils import to_categorical\n",
        "# Les étiquettes sont converties en vecteurs binaires.\n",
        "y_train = to_categorical(y_train)\n",
        "y_test = to_categorical(y_test)"
      ],
      "metadata": {
        "id": "Wbu9aiU_2o-f"
      },
      "execution_count": null,
      "outputs": []
    },
    {
      "cell_type": "code",
      "source": [
        "y_train"
      ],
      "metadata": {
        "colab": {
          "base_uri": "https://localhost:8080/"
        },
        "id": "0qW4MtDv2tTs",
        "outputId": "5537ec71-806f-4f71-f688-79b7c8219177"
      },
      "execution_count": null,
      "outputs": [
        {
          "output_type": "execute_result",
          "data": {
            "text/plain": [
              "array([[0., 0., 0., ..., 0., 0., 0.],\n",
              "       [1., 0., 0., ..., 0., 0., 0.],\n",
              "       [0., 0., 0., ..., 0., 0., 0.],\n",
              "       ...,\n",
              "       [0., 0., 0., ..., 0., 0., 0.],\n",
              "       [0., 0., 0., ..., 0., 0., 0.],\n",
              "       [0., 0., 0., ..., 0., 1., 0.]], dtype=float32)"
            ]
          },
          "metadata": {},
          "execution_count": 16
        }
      ]
    },
    {
      "cell_type": "code",
      "source": [
        "# Construction du modèle de réseau de neurones\n",
        "model = models.Sequential()\n",
        "\n",
        "# Aplatissement des images 28x28 en un vecteur de 784 éléments\n",
        "# Le modèle de réseau de neurones denses nécessite un vecteur d'entrée 1D,\n",
        "# donc nous devons aplatir les images 2D en un vecteur 1D.\n",
        "model.add(layers.Flatten(input_shape=(28, 28)))  # Aplatissement des images 28x28 en un vecteur de 784 éléments\n",
        "model.add(layers.Dense(128, activation='relu'))  # Première couche dense avec 128 neurones et activation ReLU\n",
        "model.add(layers.Dense(64, activation='relu'))  # Deuxième couche dense avec 64 neurones et activation ReLU\n",
        "model.add(layers.Dense(10, activation='softmax'))  # Couche de sortie avec 10 neurones (un pour chaque chiffre) et activation softmax\n",
        "\n"
      ],
      "metadata": {
        "id": "SzFj953G3JvU"
      },
      "execution_count": null,
      "outputs": []
    },
    {
      "cell_type": "code",
      "source": [
        "model.summary()\n",
        "#"
      ],
      "metadata": {
        "colab": {
          "base_uri": "https://localhost:8080/"
        },
        "id": "DPveUD7Z45D5",
        "outputId": "34666a29-9752-4ef4-ffc8-c67910e5d6d4"
      },
      "execution_count": null,
      "outputs": [
        {
          "output_type": "stream",
          "name": "stdout",
          "text": [
            "Model: \"sequential\"\n",
            "_________________________________________________________________\n",
            " Layer (type)                Output Shape              Param #   \n",
            "=================================================================\n",
            " flatten (Flatten)           (None, 784)               0         \n",
            "                                                                 \n",
            " dense (Dense)               (None, 128)               100480    \n",
            "                                                                 \n",
            " dense_1 (Dense)             (None, 64)                8256      \n",
            "                                                                 \n",
            " dense_2 (Dense)             (None, 10)                650       \n",
            "                                                                 \n",
            "=================================================================\n",
            "Total params: 109386 (427.29 KB)\n",
            "Trainable params: 109386 (427.29 KB)\n",
            "Non-trainable params: 0 (0.00 Byte)\n",
            "_________________________________________________________________\n"
          ]
        }
      ]
    },
    {
      "cell_type": "code",
      "source": [
        "# Compilation du modèle\n",
        "# Nous utilisons 'adam' comme optimiseur car il est efficace et largement utilisé.\n",
        "# 'categorical_crossentropy' est utilisé comme fonction de perte car nous avons des étiquettes catégorielles.\n",
        "model.compile(optimizer='adam',\n",
        "              loss='categorical_crossentropy',\n",
        "              metrics=['accuracy'])"
      ],
      "metadata": {
        "id": "58thRBJI5TbA"
      },
      "execution_count": null,
      "outputs": []
    },
    {
      "cell_type": "code",
      "source": [
        "\n",
        "# Entraînement du modèle\n",
        "# Nous entraînons le modèle sur les données d'entraînement (X_train, y_train) et validons sur les données de test (X_test, y_test).\n",
        "history = model.fit(X_train, y_train, epochs=20, batch_size=32, validation_split=0.2)\n"
      ],
      "metadata": {
        "colab": {
          "base_uri": "https://localhost:8080/"
        },
        "id": "FlxTjIw_5vnr",
        "outputId": "c0d7972d-cc01-402c-a073-4726fd9faa35"
      },
      "execution_count": null,
      "outputs": [
        {
          "output_type": "stream",
          "name": "stdout",
          "text": [
            "Epoch 1/20\n",
            "1500/1500 [==============================] - 9s 5ms/step - loss: 0.2701 - accuracy: 0.9212 - val_loss: 0.1421 - val_accuracy: 0.9568\n",
            "Epoch 2/20\n",
            "1500/1500 [==============================] - 8s 5ms/step - loss: 0.1146 - accuracy: 0.9645 - val_loss: 0.1185 - val_accuracy: 0.9651\n",
            "Epoch 3/20\n",
            "1500/1500 [==============================] - 10s 7ms/step - loss: 0.0780 - accuracy: 0.9763 - val_loss: 0.1020 - val_accuracy: 0.9694\n",
            "Epoch 4/20\n",
            "1500/1500 [==============================] - 7s 5ms/step - loss: 0.0588 - accuracy: 0.9809 - val_loss: 0.0953 - val_accuracy: 0.9716\n",
            "Epoch 5/20\n",
            "1500/1500 [==============================] - 7s 5ms/step - loss: 0.0451 - accuracy: 0.9851 - val_loss: 0.0941 - val_accuracy: 0.9730\n",
            "Epoch 6/20\n",
            "1500/1500 [==============================] - 8s 5ms/step - loss: 0.0343 - accuracy: 0.9887 - val_loss: 0.0941 - val_accuracy: 0.9748\n",
            "Epoch 7/20\n",
            "1500/1500 [==============================] - 6s 4ms/step - loss: 0.0317 - accuracy: 0.9899 - val_loss: 0.1119 - val_accuracy: 0.9712\n",
            "Epoch 8/20\n",
            "1500/1500 [==============================] - 9s 6ms/step - loss: 0.0220 - accuracy: 0.9928 - val_loss: 0.0999 - val_accuracy: 0.9746\n",
            "Epoch 9/20\n",
            "1500/1500 [==============================] - 7s 4ms/step - loss: 0.0221 - accuracy: 0.9929 - val_loss: 0.0995 - val_accuracy: 0.9755\n",
            "Epoch 10/20\n",
            "1500/1500 [==============================] - 8s 5ms/step - loss: 0.0198 - accuracy: 0.9930 - val_loss: 0.1078 - val_accuracy: 0.9761\n",
            "Epoch 11/20\n",
            "1500/1500 [==============================] - 7s 4ms/step - loss: 0.0158 - accuracy: 0.9949 - val_loss: 0.1091 - val_accuracy: 0.9768\n",
            "Epoch 12/20\n",
            "1500/1500 [==============================] - 8s 6ms/step - loss: 0.0141 - accuracy: 0.9955 - val_loss: 0.1236 - val_accuracy: 0.9751\n",
            "Epoch 13/20\n",
            "1500/1500 [==============================] - 7s 4ms/step - loss: 0.0148 - accuracy: 0.9949 - val_loss: 0.1256 - val_accuracy: 0.9750\n",
            "Epoch 14/20\n",
            "1500/1500 [==============================] - 8s 5ms/step - loss: 0.0117 - accuracy: 0.9960 - val_loss: 0.1399 - val_accuracy: 0.9729\n",
            "Epoch 15/20\n",
            "1500/1500 [==============================] - 6s 4ms/step - loss: 0.0127 - accuracy: 0.9957 - val_loss: 0.1316 - val_accuracy: 0.9753\n",
            "Epoch 16/20\n",
            "1500/1500 [==============================] - 8s 5ms/step - loss: 0.0097 - accuracy: 0.9970 - val_loss: 0.1175 - val_accuracy: 0.9772\n",
            "Epoch 17/20\n",
            "1500/1500 [==============================] - 6s 4ms/step - loss: 0.0125 - accuracy: 0.9962 - val_loss: 0.1437 - val_accuracy: 0.9743\n",
            "Epoch 18/20\n",
            "1500/1500 [==============================] - 8s 5ms/step - loss: 0.0117 - accuracy: 0.9963 - val_loss: 0.1380 - val_accuracy: 0.9744\n",
            "Epoch 19/20\n",
            "1500/1500 [==============================] - 7s 5ms/step - loss: 0.0074 - accuracy: 0.9975 - val_loss: 0.1403 - val_accuracy: 0.9765\n",
            "Epoch 20/20\n",
            "1500/1500 [==============================] - 7s 5ms/step - loss: 0.0105 - accuracy: 0.9964 - val_loss: 0.1324 - val_accuracy: 0.9772\n"
          ]
        }
      ]
    },
    {
      "cell_type": "code",
      "source": [
        "# Évaluation du modèle\n",
        "# Nous évaluons les performances du modèle sur les données de test.\n",
        "test_loss, test_acc = model.evaluate(X_test, y_test, verbose=2)\n",
        "print(f'\\nTest accuracy: {test_acc}')"
      ],
      "metadata": {
        "colab": {
          "base_uri": "https://localhost:8080/"
        },
        "id": "TOlUU_A05vk9",
        "outputId": "54ec34c4-acfd-43b7-b474-50acc1ac85aa"
      },
      "execution_count": null,
      "outputs": [
        {
          "output_type": "stream",
          "name": "stdout",
          "text": [
            "313/313 - 1s - loss: 0.1161 - accuracy: 0.9796 - 757ms/epoch - 2ms/step\n",
            "\n",
            "Test accuracy: 0.9796000123023987\n"
          ]
        }
      ]
    },
    {
      "cell_type": "code",
      "source": [
        "# Visualisation des performances de l'entraînement\n",
        "plt.plot(history.history['accuracy'], label='Training Accuracy')\n",
        "plt.plot(history.history['val_accuracy'], label='Validation Accuracy')\n",
        "plt.xlabel('Epoch')\n",
        "plt.ylabel('Accuracy')\n",
        "plt.legend()\n",
        "plt.show()"
      ],
      "metadata": {
        "colab": {
          "base_uri": "https://localhost:8080/",
          "height": 449
        },
        "id": "0NuX5Hr87jRm",
        "outputId": "46c015e7-68e8-4b62-ef95-bcf5c95d9a16"
      },
      "execution_count": null,
      "outputs": [
        {
          "output_type": "display_data",
          "data": {
            "text/plain": [
              "<Figure size 640x480 with 1 Axes>"
            ],
            "image/png": "[encoded data removed]"
          },
          "metadata": {}
        }
      ]
    },
    {
      "cell_type": "code",
      "source": [
        "plt.plot(history.history['loss'], label='Training Loss')\n",
        "plt.plot(history.history['val_loss'], label='Validation Loss')\n",
        "plt.xlabel('Epoch')\n",
        "plt.ylabel('Loss')\n",
        "plt.legend()\n",
        "plt.show()"
      ],
      "metadata": {
        "colab": {
          "base_uri": "https://localhost:8080/",
          "height": 449
        },
        "id": "WtTGF-F270aE",
        "outputId": "2e6246a6-dd75-4e45-a79f-3dd7325ed22e"
      },
      "execution_count": null,
      "outputs": [
        {
          "output_type": "display_data",
          "data": {
            "text/plain": [
              "<Figure size 640x480 with 1 Axes>"
            ],
            "image/png": "[encoded data removed]"
          },
          "metadata": {}
        }
      ]
    },
    {
      "cell_type": "code",
      "source": [
        "# Prédiction sur une nouvelle base de données (exemple avec les données de test)\n",
        "predictions = model.predict(X_test[:10])"
      ],
      "metadata": {
        "colab": {
          "base_uri": "https://localhost:8080/"
        },
        "id": "UbMPaXe88BxM",
        "outputId": "d330075c-b7c2-4d20-a523-eec85f109918"
      },
      "execution_count": null,
      "outputs": [
        {
          "output_type": "stream",
          "name": "stdout",
          "text": [
            "1/1 [==============================] - 0s 138ms/step\n"
          ]
        }
      ]
    },
    {
      "cell_type": "code",
      "source": [
        "# Affichage des prédictions pour les 10 premières images du dataset de test\n",
        "plt.figure(figsize=(10, 1))\n",
        "for i in range(10):\n",
        "    plt.subplot(1, 10, i+1)\n",
        "    plt.imshow(X_test[i], cmap='gray')\n",
        "    plt.title(np.argmax(predictions[i]))\n",
        "    plt.axis('off')\n",
        "plt.show()"
      ],
      "metadata": {
        "colab": {
          "base_uri": "https://localhost:8080/",
          "height": 103
        },
        "id": "w-zqu9vp8GHH",
        "outputId": "930ff174-ba32-498c-b43a-0b8a3e39d14e"
      },
      "execution_count": null,
      "outputs": [
        {
          "output_type": "display_data",
          "data": {
            "text/plain": [
              "<Figure size 1000x100 with 10 Axes>"
            ],
            "image/png": "[encoded data removed]"
          },
          "metadata": {}
        }
      ]
    },
    {
      "cell_type": "code",
      "source": [
        "# Matrice de confusion"
      ],
      "metadata": {
        "id": "8jXGHnHdGGzs"
      },
      "execution_count": null,
      "outputs": []
    },
    {
      "cell_type": "code",
      "source": [
        "import requests\n",
        "import pandas as pd\n",
        "\n",
        "# Base URL without the parameter\n",
        "base_url = 'https://resultats.gouv.tg/api/examens/bepc/'\n",
        "\n",
        "# List to store the extracted data\n",
        "data = []\n",
        "\n",
        "# Function to scrape a given page\n",
        "def scrape_page(url):\n",
        "    # Send a GET request to fetch the page content\n",
        "    response = requests.get(url)\n",
        "\n",
        "    # Check if the request was successful\n",
        "    if response.status_code == 200:\n",
        "        # Parse the JSON content\n",
        "        json_data = response.json()\n",
        "\n",
        "        # Assuming json_data is a list of dictionaries\n",
        "        for item in json_data:\n",
        "            item['URL'] = url  # Add the URL to the item for reference\n",
        "            data.append(item)\n",
        "    else:\n",
        "        print(f\"Failed to retrieve {url}, status code: {response.status_code}\")\n",
        "\n",
        "# Loop through each parameter to scrape the corresponding pages\n",
        "for param in range(501721,502170):\n",
        "    full_url = base_url + str(param)\n",
        "    #print(f\"Scraping {full_url}\")\n",
        "    scrape_page(full_url)\n",
        "\n",
        "# Create a pandas DataFrame with the collected data\n",
        "df = pd.DataFrame(data)\n",
        "\n",
        "# Save the DataFrame to an Excel file\n",
        "df.to_excel('resultat_bepc_2024_apeyeme.xlsx', index=False)\n",
        "\n",
        "print(\"Data has been saved to 'resultat_bepc_2024_apeyeme.xlsx'\")\n",
        "\n",
        "from google.colab import files\n",
        "files.download('resultat_bepc_2024_apeyeme.xlsx')"
      ],
      "metadata": {
        "id": "iGo-Amr1KowH"
      },
      "execution_count": null,
      "outputs": []
    },
    {
      "cell_type": "code",
      "source": [],
      "metadata": {
        "id": "5a6TW31kK1Qm"
      },
      "execution_count": null,
      "outputs": []
    },
    {
      "cell_type": "code",
      "source": [
        "from google.colab import files\n",
        "uploaded = files.upload()\n",
        "\n",
        "df = pd.read_excel('resultat_bepc_2024_apeyeme.xlsx')"
      ],
      "metadata": {
        "id": "OUsBPSOULPrV",
        "outputId": "cebf7e54-9372-46bd-dd93-4f6eb6f291cc",
        "colab": {
          "base_uri": "https://localhost:8080/",
          "height": 74
        }
      },
      "execution_count": 4,
      "outputs": [
        {
          "output_type": "display_data",
          "data": {
            "text/plain": [
              "<IPython.core.display.HTML object>"
            ],
            "text/html": [
              "\n",
              "     <input type=\"file\" id=\"files-219aff2d-55bb-41de-aa0d-e565ed19de45\" name=\"files[]\" multiple disabled\n",
              "        style=\"border:none\" />\n",
              "     <output id=\"result-219aff2d-55bb-41de-aa0d-e565ed19de45\">\n",
              "      Upload widget is only available when the cell has been executed in the\n",
              "      current browser session. Please rerun this cell to enable.\n",
              "      </output>\n",
              "      <script>// Copyright 2017 Google LLC\n",
              "//\n",
              "// Licensed under the Apache License, Version 2.0 (the \"License\");\n",
              "// you may not use this file except in compliance with the License.\n",
              "// You may obtain a copy of the License at\n",
              "//\n",
              "//      http://www.apache.org/licenses/LICENSE-2.0\n",
              "//\n",
              "// Unless required by applicable law or agreed to in writing, software\n",
              "// distributed under the License is distributed on an \"AS IS\" BASIS,\n",
              "// WITHOUT WARRANTIES OR CONDITIONS OF ANY KIND, either express or implied.\n",
              "// See the License for the specific language governing permissions and\n",
              "// limitations under the License.\n",
              "\n",
              "/**\n",
              " * @fileoverview Helpers for google.colab Python module.\n",
              " */\n",
              "(function(scope) {\n",
              "function span(text, styleAttributes = {}) {\n",
              "  const element = document.createElement('span');\n",
              "  element.textContent = text;\n",
              "  for (const key of Object.keys(styleAttributes)) {\n",
              "    element.style[key] = styleAttributes[key];\n",
              "  }\n",
              "  return element;\n",
              "}\n",
              "\n",
              "// Max number of bytes which will be uploaded at a time.\n",
              "const MAX_PAYLOAD_SIZE = 100 * 1024;\n",
              "\n",
              "function _uploadFiles(inputId, outputId) {\n",
              "  const steps = uploadFilesStep(inputId, outputId);\n",
              "  const outputElement = document.getElementById(outputId);\n",
              "  // Cache steps on the outputElement to make it available for the next call\n",
              "  // to uploadFilesContinue from Python.\n",
              "  outputElement.steps = steps;\n",
              "\n",
              "  return _uploadFilesContinue(outputId);\n",
              "}\n",
              "\n",
              "// This is roughly an async generator (not supported in the browser yet),\n",
              "// where there are multiple asynchronous steps and the Python side is going\n",
              "// to poll for completion of each step.\n",
              "// This uses a Promise to block the python side on completion of each step,\n",
              "// then passes the result of the previous step as the input to the next step.\n",
              "function _uploadFilesContinue(outputId) {\n",
              "  const outputElement = document.getElementById(outputId);\n",
              "  const steps = outputElement.steps;\n",
              "\n",
              "  const next = steps.next(outputElement.lastPromiseValue);\n",
              "  return Promise.resolve(next.value.promise).then((value) => {\n",
              "    // Cache the last promise value to make it available to the next\n",
              "    // step of the generator.\n",
              "    outputElement.lastPromiseValue = value;\n",
              "    return next.value.response;\n",
              "  });\n",
              "}\n",
              "\n",
              "/**\n",
              " * Generator function which is called between each async step of the upload\n",
              " * process.\n",
              " * @param {string} inputId Element ID of the input file picker element.\n",
              " * @param {string} outputId Element ID of the output display.\n",
              " * @return {!Iterable<!Object>} Iterable of next steps.\n",
              " */\n",
              "function* uploadFilesStep(inputId, outputId) {\n",
              "  const inputElement = document.getElementById(inputId);\n",
              "  inputElement.disabled = false;\n",
              "\n",
              "  const outputElement = document.getElementById(outputId);\n",
              "  outputElement.innerHTML = '';\n",
              "\n",
              "  const pickedPromise = new Promise((resolve) => {\n",
              "    inputElement.addEventListener('change', (e) => {\n",
              "      resolve(e.target.files);\n",
              "    });\n",
              "  });\n",
              "\n",
              "  const cancel = document.createElement('button');\n",
              "  inputElement.parentElement.appendChild(cancel);\n",
              "  cancel.textContent = 'Cancel upload';\n",
              "  const cancelPromise = new Promise((resolve) => {\n",
              "    cancel.onclick = () => {\n",
              "      resolve(null);\n",
              "    };\n",
              "  });\n",
              "\n",
              "  // Wait for the user to pick the files.\n",
              "  const files = yield {\n",
              "    promise: Promise.race([pickedPromise, cancelPromise]),\n",
              "    response: {\n",
              "      action: 'starting',\n",
              "    }\n",
              "  };\n",
              "\n",
              "  cancel.remove();\n",
              "\n",
              "  // Disable the input element since further picks are not allowed.\n",
              "  inputElement.disabled = true;\n",
              "\n",
              "  if (!files) {\n",
              "    return {\n",
              "      response: {\n",
              "        action: 'complete',\n",
              "      }\n",
              "    };\n",
              "  }\n",
              "\n",
              "  for (const file of files) {\n",
              "    const li = document.createElement('li');\n",
              "    li.append(span(file.name, {fontWeight: 'bold'}));\n",
              "    li.append(span(\n",
              "        `(${file.type || 'n/a'}) - ${file.size} bytes, ` +\n",
              "        `last modified: ${\n",
              "            file.lastModifiedDate ? file.lastModifiedDate.toLocaleDateString() :\n",
              "                                    'n/a'} - `));\n",
              "    const percent = span('0% done');\n",
              "    li.appendChild(percent);\n",
              "\n",
              "    outputElement.appendChild(li);\n",
              "\n",
              "    const fileDataPromise = new Promise((resolve) => {\n",
              "      const reader = new FileReader();\n",
              "      reader.onload = (e) => {\n",
              "        resolve(e.target.result);\n",
              "      };\n",
              "      reader.readAsArrayBuffer(file);\n",
              "    });\n",
              "    // Wait for the data to be ready.\n",
              "    let fileData = yield {\n",
              "      promise: fileDataPromise,\n",
              "      response: {\n",
              "        action: 'continue',\n",
              "      }\n",
              "    };\n",
              "\n",
              "    // Use a chunked sending to avoid message size limits. See b/62115660.\n",
              "    let position = 0;\n",
              "    do {\n",
              "      const length = Math.min(fileData.byteLength - position, MAX_PAYLOAD_SIZE);\n",
              "      const chunk = new Uint8Array(fileData, position, length);\n",
              "      position += length;\n",
              "\n",
              "      const base64 = btoa(String.fromCharCode.apply(null, chunk));\n",
              "      yield {\n",
              "        response: {\n",
              "          action: 'append',\n",
              "          file: file.name,\n",
              "          data: base64,\n",
              "        },\n",
              "      };\n",
              "\n",
              "      let percentDone = fileData.byteLength === 0 ?\n",
              "          100 :\n",
              "          Math.round((position / fileData.byteLength) * 100);\n",
              "      percent.textContent = `${percentDone}% done`;\n",
              "\n",
              "    } while (position < fileData.byteLength);\n",
              "  }\n",
              "\n",
              "  // All done.\n",
              "  yield {\n",
              "    response: {\n",
              "      action: 'complete',\n",
              "    }\n",
              "  };\n",
              "}\n",
              "\n",
              "scope.google = scope.google || {};\n",
              "scope.google.colab = scope.google.colab || {};\n",
              "scope.google.colab._files = {\n",
              "  _uploadFiles,\n",
              "  _uploadFilesContinue,\n",
              "};\n",
              "})(self);\n",
              "</script> "
            ]
          },
          "metadata": {}
        },
        {
          "output_type": "stream",
          "name": "stdout",
          "text": [
            "Saving resultat_bepc_2024_apeyeme.xlsx to resultat_bepc_2024_apeyeme (2).xlsx\n"
          ]
        }
      ]
    },
    {
      "cell_type": "code",
      "source": [
        "# Afficher les premières lignes du DataFrame\n",
        "print(df.head())\n",
        "\n",
        "# Afficher des informations générales sur les données\n",
        "print(df.info())\n",
        "\n",
        "# Résumé statistique des données\n",
        "print(df.describe())"
      ],
      "metadata": {
        "id": "8YQ_9jDXNs9O",
        "outputId": "33845bb3-ee1c-4056-d931-17e18532962e",
        "colab": {
          "base_uri": "https://localhost:8080/"
        }
      },
      "execution_count": 6,
      "outputs": [
        {
          "output_type": "stream",
          "name": "stdout",
          "text": [
            "   id_fiche_examen  annee      centre_decrit date_naissance decision  \\\n",
            "0           353591   2024  CEG DANYI APEYEME     07/04/2008  Ajourne   \n",
            "1           351228   2024  CEG DANYI APEYEME     11/07/2009  Ajourne   \n",
            "2           352206   2024  CEG DANYI APEYEME     31/12/2005  Ajourne   \n",
            "3           351730   2024  CEG DANYI APEYEME     31/12/2005  Ajourne   \n",
            "4           355527   2024  CEG DANYI APEYEME     07/10/2007  Ajourne   \n",
            "\n",
            "             ets_provenance examen  jury      lieu_naiss  mention  moyenne  \\\n",
            "0           CEG DANYI KPETO   BEPC   508  Danyi Gbaladzé  Ajourne      NaN   \n",
            "1     LYCEE DANYI KUDZRAGAN   BEPC   508      DISP YIKPA  Ajourne      NaN   \n",
            "2     LYCEE DANYI KUDZRAGAN   BEPC   508    Danyi Kponué  Ajourne      NaN   \n",
            "3           CEG DANYI KPETO   BEPC   508      Danyi Dafo  Ajourne      NaN   \n",
            "4  CEG DANYI ATIGBA-N'DIGBE   BEPC   508            LOME  Ajourne      NaN   \n",
            "\n",
            "                   nom_prenom  num_table          region serie_filiere  \\\n",
            "0                 ABISSI Rock     501721  Plateaux Ouest             B   \n",
            "1  ABIYI Essodjelinam Sabilon     501722  Plateaux Ouest             B   \n",
            "2                 ABIYI Bruno     501723  Plateaux Ouest             B   \n",
            "3                 ADAGLO Adjo     501724  Plateaux Ouest             B   \n",
            "4       ADANYEBOU Kossi Serge     501725  Plateaux Ouest             B   \n",
            "\n",
            "   session sexe  telephone type_enseignement  \\\n",
            "0  Normale    M   97889326           GENERAL   \n",
            "1  Normale    M   90467325           GENERAL   \n",
            "2  Normale    M   98214924           GENERAL   \n",
            "3  Normale    F   96015600           GENERAL   \n",
            "4  Normale    M   79747789           GENERAL   \n",
            "\n",
            "                                                 URL  \n",
            "0  https://resultats.gouv.tg/api/examens/bepc/501721  \n",
            "1  https://resultats.gouv.tg/api/examens/bepc/501722  \n",
            "2  https://resultats.gouv.tg/api/examens/bepc/501723  \n",
            "3  https://resultats.gouv.tg/api/examens/bepc/501724  \n",
            "4  https://resultats.gouv.tg/api/examens/bepc/501725  \n",
            "<class 'pandas.core.frame.DataFrame'>\n",
            "RangeIndex: 399 entries, 0 to 398\n",
            "Data columns (total 20 columns):\n",
            " #   Column             Non-Null Count  Dtype  \n",
            "---  ------             --------------  -----  \n",
            " 0   id_fiche_examen    399 non-null    int64  \n",
            " 1   annee              399 non-null    int64  \n",
            " 2   centre_decrit      399 non-null    object \n",
            " 3   date_naissance     399 non-null    object \n",
            " 4   decision           399 non-null    object \n",
            " 5   ets_provenance     399 non-null    object \n",
            " 6   examen             399 non-null    object \n",
            " 7   jury               399 non-null    int64  \n",
            " 8   lieu_naiss         399 non-null    object \n",
            " 9   mention            399 non-null    object \n",
            " 10  moyenne            0 non-null      float64\n",
            " 11  nom_prenom         399 non-null    object \n",
            " 12  num_table          399 non-null    int64  \n",
            " 13  region             399 non-null    object \n",
            " 14  serie_filiere      399 non-null    object \n",
            " 15  session            399 non-null    object \n",
            " 16  sexe               399 non-null    object \n",
            " 17  telephone          399 non-null    int64  \n",
            " 18  type_enseignement  399 non-null    object \n",
            " 19  URL                399 non-null    object \n",
            "dtypes: float64(1), int64(5), object(14)\n",
            "memory usage: 62.5+ KB\n",
            "None\n",
            "       id_fiche_examen   annee        jury  moyenne      num_table  \\\n",
            "count       399.000000   399.0  399.000000      0.0     399.000000   \n",
            "mean     352190.318296  2024.0  508.498747      NaN  501944.937343   \n",
            "std        2112.594346     0.0    0.500626      NaN     137.573858   \n",
            "min      348541.000000  2024.0  508.000000      NaN  501721.000000   \n",
            "25%      350376.500000  2024.0  508.000000      NaN  501820.500000   \n",
            "50%      352218.000000  2024.0  508.000000      NaN  501920.000000   \n",
            "75%      354083.500000  2024.0  509.000000      NaN  502069.500000   \n",
            "max      355548.000000  2024.0  509.000000      NaN  502169.000000   \n",
            "\n",
            "          telephone  \n",
            "count  3.990000e+02  \n",
            "mean   9.407179e+07  \n",
            "std    7.397183e+06  \n",
            "min    7.014350e+07  \n",
            "25%    9.218823e+07  \n",
            "50%    9.711816e+07  \n",
            "75%    9.821492e+07  \n",
            "max    9.998206e+07  \n"
          ]
        }
      ]
    },
    {
      "cell_type": "code",
      "source": [
        "# Convertir les colonnes de type 'object' en 'string'\n",
        "df['centre_decrit'] = df['centre_decrit'].astype(str)\n",
        "df['date_naissance'] = pd.to_datetime(df['date_naissance'], errors='coerce')\n",
        "df['decision'] = df['decision'].astype(str)\n",
        "df['ets_provenance'] = df['ets_provenance'].astype(str)\n",
        "df['examen'] = df['examen'].astype(str)\n",
        "df['lieu_naiss'] = df['lieu_naiss'].astype(str)\n",
        "df['mention'] = df['mention'].astype(str)\n",
        "df['nom_prenom'] = df['nom_prenom'].astype(str)\n",
        "df['region'] = df['region'].astype(str)\n",
        "df['serie_filiere'] = df['serie_filiere'].astype(str)\n",
        "df['session'] = df['session'].astype(str)\n",
        "df['sexe'] = df['sexe'].astype(str)\n",
        "df['type_enseignement'] = df['type_enseignement'].astype(str)\n",
        "df['URL'] = df['URL'].astype(str)"
      ],
      "metadata": {
        "id": "yy3Z7VmhPgfl"
      },
      "execution_count": 15,
      "outputs": []
    },
    {
      "cell_type": "code",
      "source": [
        "df.info()"
      ],
      "metadata": {
        "id": "Suo23pfnQHUg",
        "outputId": "2464c270-a553-44eb-85dc-a85ef5052b75",
        "colab": {
          "base_uri": "https://localhost:8080/"
        }
      },
      "execution_count": 17,
      "outputs": [
        {
          "output_type": "stream",
          "name": "stdout",
          "text": [
            "<class 'pandas.core.frame.DataFrame'>\n",
            "RangeIndex: 399 entries, 0 to 398\n",
            "Data columns (total 21 columns):\n",
            " #   Column             Non-Null Count  Dtype         \n",
            "---  ------             --------------  -----         \n",
            " 0   id_fiche_examen    399 non-null    int64         \n",
            " 1   annee              399 non-null    int64         \n",
            " 2   centre_decrit      399 non-null    object        \n",
            " 3   date_naissance     126 non-null    datetime64[ns]\n",
            " 4   decision           399 non-null    object        \n",
            " 5   ets_provenance     399 non-null    object        \n",
            " 6   examen             399 non-null    object        \n",
            " 7   jury               399 non-null    int64         \n",
            " 8   lieu_naiss         399 non-null    object        \n",
            " 9   mention            399 non-null    object        \n",
            " 10  moyenne            0 non-null      float64       \n",
            " 11  nom_prenom         399 non-null    object        \n",
            " 12  num_table          399 non-null    int64         \n",
            " 13  region             399 non-null    object        \n",
            " 14  serie_filiere      399 non-null    object        \n",
            " 15  session            399 non-null    object        \n",
            " 16  sexe               399 non-null    object        \n",
            " 17  telephone          399 non-null    int64         \n",
            " 18  type_enseignement  399 non-null    object        \n",
            " 19  URL                399 non-null    object        \n",
            " 20  statut             399 non-null    object        \n",
            "dtypes: datetime64[ns](1), float64(1), int64(5), object(14)\n",
            "memory usage: 65.6+ KB\n"
          ]
        }
      ]
    },
    {
      "cell_type": "code",
      "source": [
        "# Afficher les premières lignes pour vérifier la conversion\n",
        "print(df.head())\n",
        "# Vérifier les types de données\n",
        "print(df.info())"
      ],
      "metadata": {
        "collapsed": true,
        "id": "vPyx2Aa5Q9NG",
        "outputId": "6bf207a1-1f08-4920-f77a-c3a7a6b31357",
        "colab": {
          "base_uri": "https://localhost:8080/"
        }
      },
      "execution_count": 19,
      "outputs": [
        {
          "output_type": "stream",
          "name": "stdout",
          "text": [
            "   id_fiche_examen  annee      centre_decrit date_naissance decision  \\\n",
            "0           353591   2024  CEG DANYI APEYEME     2008-07-04  Ajourne   \n",
            "1           351228   2024  CEG DANYI APEYEME     2009-11-07  Ajourne   \n",
            "2           352206   2024  CEG DANYI APEYEME            NaT  Ajourne   \n",
            "3           351730   2024  CEG DANYI APEYEME            NaT  Ajourne   \n",
            "4           355527   2024  CEG DANYI APEYEME     2007-07-10  Ajourne   \n",
            "\n",
            "             ets_provenance examen  jury      lieu_naiss  mention  ...  \\\n",
            "0           CEG DANYI KPETO   BEPC   508  Danyi Gbaladzé  Ajourne  ...   \n",
            "1     LYCEE DANYI KUDZRAGAN   BEPC   508      DISP YIKPA  Ajourne  ...   \n",
            "2     LYCEE DANYI KUDZRAGAN   BEPC   508    Danyi Kponué  Ajourne  ...   \n",
            "3           CEG DANYI KPETO   BEPC   508      Danyi Dafo  Ajourne  ...   \n",
            "4  CEG DANYI ATIGBA-N'DIGBE   BEPC   508            LOME  Ajourne  ...   \n",
            "\n",
            "                   nom_prenom num_table          region serie_filiere  \\\n",
            "0                 ABISSI Rock    501721  Plateaux Ouest             B   \n",
            "1  ABIYI Essodjelinam Sabilon    501722  Plateaux Ouest             B   \n",
            "2                 ABIYI Bruno    501723  Plateaux Ouest             B   \n",
            "3                 ADAGLO Adjo    501724  Plateaux Ouest             B   \n",
            "4       ADANYEBOU Kossi Serge    501725  Plateaux Ouest             B   \n",
            "\n",
            "   session sexe telephone  type_enseignement  \\\n",
            "0  Normale    M  97889326            GENERAL   \n",
            "1  Normale    M  90467325            GENERAL   \n",
            "2  Normale    M  98214924            GENERAL   \n",
            "3  Normale    F  96015600            GENERAL   \n",
            "4  Normale    M  79747789            GENERAL   \n",
            "\n",
            "                                                 URL  statut  \n",
            "0  https://resultats.gouv.tg/api/examens/bepc/501721  échoué  \n",
            "1  https://resultats.gouv.tg/api/examens/bepc/501722  échoué  \n",
            "2  https://resultats.gouv.tg/api/examens/bepc/501723  échoué  \n",
            "3  https://resultats.gouv.tg/api/examens/bepc/501724  échoué  \n",
            "4  https://resultats.gouv.tg/api/examens/bepc/501725  échoué  \n",
            "\n",
            "[5 rows x 21 columns]\n",
            "<class 'pandas.core.frame.DataFrame'>\n",
            "RangeIndex: 399 entries, 0 to 398\n",
            "Data columns (total 21 columns):\n",
            " #   Column             Non-Null Count  Dtype         \n",
            "---  ------             --------------  -----         \n",
            " 0   id_fiche_examen    399 non-null    int64         \n",
            " 1   annee              399 non-null    int64         \n",
            " 2   centre_decrit      399 non-null    object        \n",
            " 3   date_naissance     126 non-null    datetime64[ns]\n",
            " 4   decision           399 non-null    object        \n",
            " 5   ets_provenance     399 non-null    object        \n",
            " 6   examen             399 non-null    object        \n",
            " 7   jury               399 non-null    int64         \n",
            " 8   lieu_naiss         399 non-null    object        \n",
            " 9   mention            399 non-null    object        \n",
            " 10  moyenne            0 non-null      float64       \n",
            " 11  nom_prenom         399 non-null    object        \n",
            " 12  num_table          399 non-null    int64         \n",
            " 13  region             399 non-null    object        \n",
            " 14  serie_filiere      399 non-null    object        \n",
            " 15  session            399 non-null    object        \n",
            " 16  sexe               399 non-null    object        \n",
            " 17  telephone          399 non-null    int64         \n",
            " 18  type_enseignement  399 non-null    object        \n",
            " 19  URL                399 non-null    object        \n",
            " 20  statut             399 non-null    object        \n",
            "dtypes: datetime64[ns](1), float64(1), int64(5), object(14)\n",
            "memory usage: 65.6+ KB\n",
            "None\n"
          ]
        }
      ]
    },
    {
      "cell_type": "code",
      "source": [
        "df['decision'].unique()"
      ],
      "metadata": {
        "id": "TCDGwgWtO60n",
        "outputId": "f29a6231-8e2a-4cdb-cadf-81fa149454d0",
        "colab": {
          "base_uri": "https://localhost:8080/"
        }
      },
      "execution_count": 20,
      "outputs": [
        {
          "output_type": "execute_result",
          "data": {
            "text/plain": [
              "array(['Ajourne', 'Passable', 'TBien', 'Abien', 'Absent', 'Bien'],\n",
              "      dtype=object)"
            ]
          },
          "metadata": {},
          "execution_count": 20
        }
      ]
    },
    {
      "cell_type": "code",
      "source": [
        "# Créer une fonction pour classifier les mentions\n",
        "def classifier_mention(mention):\n",
        "    if mention.lower() == 'ajourne':\n",
        "        return 'échoué'\n",
        "    else:\n",
        "        return 'admis'\n",
        "\n",
        "# Appliquer la fonction à la colonne des mentions\n",
        "df['statut'] = df['decision'].apply(classifier_mention)\n"
      ],
      "metadata": {
        "id": "SeiuquEnOfIu"
      },
      "execution_count": 21,
      "outputs": []
    },
    {
      "cell_type": "code",
      "source": [
        "df['statut'].describe()"
      ],
      "metadata": {
        "id": "9bDLjTxaOjx8",
        "outputId": "6aef5237-1ac6-45b4-f22d-91ef7eddaebf",
        "colab": {
          "base_uri": "https://localhost:8080/"
        }
      },
      "execution_count": 22,
      "outputs": [
        {
          "output_type": "execute_result",
          "data": {
            "text/plain": [
              "count        399\n",
              "unique         2\n",
              "top       échoué\n",
              "freq         315\n",
              "Name: statut, dtype: object"
            ]
          },
          "metadata": {},
          "execution_count": 22
        }
      ]
    },
    {
      "cell_type": "code",
      "source": [
        "import pandas as pd\n",
        "import numpy as np\n",
        "import matplotlib.pyplot as plt\n"
      ],
      "metadata": {
        "id": "B9A1WymyR9N6"
      },
      "execution_count": 24,
      "outputs": []
    },
    {
      "cell_type": "code",
      "source": [
        "# Compter le nombre d'étudiants admis et échoués\n",
        "print(df['statut'].value_counts())\n",
        "\n",
        "# Diagramme à barres des résultats\n",
        "df['statut'].value_counts().plot(kind='bar')\n",
        "plt.title('Résultats BEPC')\n",
        "plt.xlabel('Statut')\n",
        "plt.ylabel('Nombre d\\'Étudiants')\n",
        "plt.show()\n"
      ],
      "metadata": {
        "id": "XUhvyM1HRfS9",
        "outputId": "070837f1-f50b-4c7d-d3bc-3b0ba01b619c",
        "colab": {
          "base_uri": "https://localhost:8080/",
          "height": 581
        }
      },
      "execution_count": 25,
      "outputs": [
        {
          "output_type": "stream",
          "name": "stdout",
          "text": [
            "statut\n",
            "échoué    315\n",
            "admis      84\n",
            "Name: count, dtype: int64\n"
          ]
        },
        {
          "output_type": "display_data",
          "data": {
            "text/plain": [
              "<Figure size 640x480 with 1 Axes>"
            ],
            "image/png": "[encoded data removed]"
          },
          "metadata": {}
        }
      ]
    },
    {
      "cell_type": "code",
      "source": [
        "# Compter le nombre total d'étudiants par établissement de provenance\n",
        "total_par_ets = df['ets_provenance'].value_counts()\n",
        "\n",
        "# Compter le nombre d'étudiants admis par établissement de provenance\n",
        "admis_par_ets = df[df['statut'] == 'admis']['ets_provenance'].value_counts()\n",
        "\n",
        "# Calculer le pourcentage de réussite par établissement de provenance\n",
        "pourcentage_reussite_par_ets = (admis_par_ets / total_par_ets) * 100\n",
        "\n",
        "# Remplir les valeurs manquantes avec 0 (si un établissement n'a aucun admis, par exemple)\n",
        "pourcentage_reussite_par_ets = pourcentage_reussite_par_ets.fillna(0)\n"
      ],
      "metadata": {
        "id": "MW3eZAtXSlO1"
      },
      "execution_count": 26,
      "outputs": []
    },
    {
      "cell_type": "code",
      "source": [
        "print(total_par_ets)"
      ],
      "metadata": {
        "id": "Vn7hyhuXS5Fu",
        "outputId": "a38d15b9-608f-4d98-d04d-5d05102c4c63",
        "colab": {
          "base_uri": "https://localhost:8080/"
        }
      },
      "execution_count": 28,
      "outputs": [
        {
          "output_type": "stream",
          "name": "stdout",
          "text": [
            "ets_provenance\n",
            "CEG DANYI ATIGBA-N'DIGBE          91\n",
            "CEG DANYI APEYEME                 81\n",
            "CEG DANYI KPETO                   67\n",
            "LYCEE DANYI KUDZRAGAN             53\n",
            "COLLEGE SAINT MICHEL              40\n",
            "CEG DANYI DZOGBEGAN-MEMPEASSEM    37\n",
            "CEG DANYI AMEGAPE-NYAMEGBE        19\n",
            "CEG DANYI KETEME                  11\n",
            "Name: count, dtype: int64\n"
          ]
        }
      ]
    },
    {
      "cell_type": "code",
      "source": [
        "print(admis_par_ets)"
      ],
      "metadata": {
        "id": "W5Ba6dUZTA20",
        "outputId": "f811317b-7369-4815-ffd7-97e6a0ffaa05",
        "colab": {
          "base_uri": "https://localhost:8080/"
        }
      },
      "execution_count": 29,
      "outputs": [
        {
          "output_type": "stream",
          "name": "stdout",
          "text": [
            "ets_provenance\n",
            "CEG DANYI APEYEME                 27\n",
            "CEG DANYI ATIGBA-N'DIGBE          14\n",
            "COLLEGE SAINT MICHEL              11\n",
            "LYCEE DANYI KUDZRAGAN             10\n",
            "CEG DANYI DZOGBEGAN-MEMPEASSEM     9\n",
            "CEG DANYI AMEGAPE-NYAMEGBE         6\n",
            "CEG DANYI KPETO                    5\n",
            "CEG DANYI KETEME                   2\n",
            "Name: count, dtype: int64\n"
          ]
        }
      ]
    },
    {
      "cell_type": "code",
      "source": [
        "print(pourcentage_reussite_par_ets)"
      ],
      "metadata": {
        "id": "1ckaXcAdSw3g",
        "outputId": "d6a884cb-614d-448d-df20-2836456bb1e6",
        "colab": {
          "base_uri": "https://localhost:8080/"
        }
      },
      "execution_count": 27,
      "outputs": [
        {
          "output_type": "stream",
          "name": "stdout",
          "text": [
            "ets_provenance\n",
            "CEG DANYI AMEGAPE-NYAMEGBE        31.578947\n",
            "CEG DANYI APEYEME                 33.333333\n",
            "CEG DANYI ATIGBA-N'DIGBE          15.384615\n",
            "CEG DANYI DZOGBEGAN-MEMPEASSEM    24.324324\n",
            "CEG DANYI KETEME                  18.181818\n",
            "CEG DANYI KPETO                    7.462687\n",
            "COLLEGE SAINT MICHEL              27.500000\n",
            "LYCEE DANYI KUDZRAGAN             18.867925\n",
            "Name: count, dtype: float64\n"
          ]
        }
      ]
    },
    {
      "cell_type": "code",
      "source": [],
      "metadata": {
        "id": "hVpXt3svSp3W"
      },
      "execution_count": null,
      "outputs": []
    }
  ]
}